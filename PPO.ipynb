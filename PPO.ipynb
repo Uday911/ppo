{
 "cells": [
  {
   "cell_type": "code",
   "execution_count": 50,
   "metadata": {},
   "outputs": [],
   "source": [
    "import torch\n",
    "import gym\n",
    "import torch.nn as nn\n",
    "import torch.optim as optim\n",
    "from torch.distributions import Categorical\n",
    "from functools import reduce\n",
    "import numpy as np\n",
    "import matplotlib.pyplot as plt\n",
    "import scipy.signal\n",
    "import random"
   ]
  },
  {
   "cell_type": "code",
   "execution_count": 51,
   "metadata": {},
   "outputs": [],
   "source": [
    "class ActorNet(nn.Module):\n",
    "    def __init__(self,input_dim,output_dim):\n",
    "        super(ActorNet,self).__init__()\n",
    "        self.fc1 = nn.Linear(input_dim,64)\n",
    "        self.elu1 = nn.Tanh()\n",
    "        self.fc2 = nn.Linear(64,64)\n",
    "        self.elu2 = nn.Tanh()\n",
    "        self.fc3 = nn.Linear(64,output_dim)\n",
    "        \n",
    "    def forward(self,obj,action=False,max_act=False):\n",
    "        x = torch.FloatTensor(obj)\n",
    "        x = self.elu1(self.fc1(x))\n",
    "        x = self.elu2(self.fc2(x))\n",
    "        logits = self.fc3(x)\n",
    "        m = Categorical(logits=logits)\n",
    "        act = m.sample()\n",
    "        log_p = m.log_prob(act)\n",
    "        if action:\n",
    "            return m.log_prob(torch.LongTensor(action))\n",
    "        else:\n",
    "            if max_act:\n",
    "                return torch.argmax(logits).item()\n",
    "            else:\n",
    "                return m,act.item(),log_p"
   ]
  },
  {
   "cell_type": "code",
   "execution_count": 52,
   "metadata": {},
   "outputs": [],
   "source": [
    "env = gym.make('Acrobot-v1')"
   ]
  },
  {
   "cell_type": "code",
   "execution_count": 53,
   "metadata": {},
   "outputs": [],
   "source": [
    "input_dim = env.observation_space.shape[0]"
   ]
  },
  {
   "cell_type": "code",
   "execution_count": 54,
   "metadata": {},
   "outputs": [],
   "source": [
    "output_dim = env.action_space.n"
   ]
  },
  {
   "cell_type": "code",
   "execution_count": 55,
   "metadata": {},
   "outputs": [],
   "source": [
    "act_net = ActorNet(input_dim,output_dim)"
   ]
  },
  {
   "cell_type": "code",
   "execution_count": 56,
   "metadata": {},
   "outputs": [],
   "source": [
    "# obj = env.reset()\n",
    "# done = False\n",
    "# while not done:\n",
    "#     m,act,log_p = act_net.forward(obj)\n",
    "#     next_obj,reward,done,_ = env.step(act)\n",
    "#     env.render()\n",
    "# env.close()"
   ]
  },
  {
   "cell_type": "code",
   "execution_count": null,
   "metadata": {},
   "outputs": [],
   "source": []
  },
  {
   "cell_type": "code",
   "execution_count": 57,
   "metadata": {},
   "outputs": [],
   "source": [
    "class CriticNet(nn.Module):\n",
    "    def __init__(self,input_dim):\n",
    "        super(CriticNet,self).__init__()\n",
    "        self.fc1 = nn.Linear(input_dim,64)\n",
    "        self.elu1 = nn.Tanh()\n",
    "        self.fc2 = nn.Linear(64,64)\n",
    "        self.elu2 = nn.Tanh()\n",
    "        self.fc3 = nn.Linear(64,1)\n",
    "        \n",
    "    def forward(self,obj):\n",
    "        x = torch.FloatTensor(obj)\n",
    "        x = self.elu1(self.fc1(x))\n",
    "        x = self.elu2(self.fc2(x))\n",
    "        v = self.fc3(x)\n",
    "        return v"
   ]
  },
  {
   "cell_type": "code",
   "execution_count": 58,
   "metadata": {},
   "outputs": [],
   "source": [
    "crit_net = CriticNet(input_dim)"
   ]
  },
  {
   "cell_type": "code",
   "execution_count": 59,
   "metadata": {},
   "outputs": [],
   "source": [
    "gamma = 0.99\n",
    "lamda = 0.95\n",
    "clip_ratio = 0.2\n",
    "lr_pi = 1e-4\n",
    "lr_v = 1e-3\n",
    "target_kl = 0.01\n",
    "train_pi_iter = 5\n",
    "train_v_iter = 5"
   ]
  },
  {
   "cell_type": "code",
   "execution_count": 60,
   "metadata": {},
   "outputs": [],
   "source": [
    "optim_actor = optim.Adam(params=act_net.parameters(),lr=lr_pi)\n",
    "optim_critic = optim.Adam(params=crit_net.parameters(),lr=lr_v)"
   ]
  },
  {
   "cell_type": "code",
   "execution_count": 61,
   "metadata": {},
   "outputs": [],
   "source": [
    "def disc_cuml_rew_calc(rews,gamma=gamma):\n",
    "#     rews_disc = [rews[i]*gamma**i for i in range(len(rews))]\n",
    "#     rews_disc_rev = rews_disc.copy()\n",
    "#     rews_disc_rev.reverse()\n",
    "#     rews_disc_rev_cuml = [reduce(lambda a,b: a+b,rews_disc_rev[:i+1]) for i in range(len(rews_disc_rev))]\n",
    "#     rews_disc_rev_cuml.reverse()\n",
    "    return list(scipy.signal.lfilter([1], [1, float(-gamma)], rews[::-1], axis=0)[::-1])\n",
    "#     rews_disc_cuml = np.array(rews_disc_rev_cuml)\n",
    "#     rews_disc_cuml_scaled = (rews_disc_cuml - rews_disc_cuml.min())/(rews_disc_cuml.max() - rews_disc_cuml.min())\n",
    "#     return rews_disc_rev_cuml"
   ]
  },
  {
   "cell_type": "code",
   "execution_count": null,
   "metadata": {},
   "outputs": [],
   "source": []
  },
  {
   "cell_type": "code",
   "execution_count": 62,
   "metadata": {},
   "outputs": [],
   "source": [
    "# traj_n = 500\n",
    "# trajectories = []\n",
    "# ten_traj = 0\n",
    "# ten_v = 0\n",
    "# for t in range(traj_n):\n",
    "#     traj = []\n",
    "#     rews = []\n",
    "#     obj = env.reset()\n",
    "#     done = False\n",
    "#     while not done:\n",
    "#         v = crit_net(obj)\n",
    "#         m,act,log_p = act_net.forward(obj)\n",
    "#         next_obj,reward,done,_ = env.step(act)\n",
    "#         traj.append([act,obj,next_obj,reward,done,log_p,v])\n",
    "#         rews.append(reward)\n",
    "#         obj = next_obj\n",
    "#         if t % 10 == 0:\n",
    "#             env.render()\n",
    "#     if t % 10 == 0:\n",
    "#         print(t)\n",
    "#         env.close()\n",
    "#     rews_disc_cuml_scaled = disc_cuml_rew_calc(rews)\n",
    "#     traj = [i + [j] for i,j in zip(traj,rews_disc_cuml_scaled)]\n",
    "#     trajectories.append(traj)\n",
    "#     act,obj,_,rews,_,old_policy,v,rews_disc_cuml = zip(*traj)\n",
    "#     old_policy = torch.FloatTensor(old_policy)\n",
    "\n",
    "#     new_policy = act_net.forward(obj,action=act)\n",
    "#     ratio = torch.exp(new_policy-old_policy)\n",
    "#     adv = [rews[i] + gamma*v[i+1] - v[i] for i in range(len(rews)-1)] + [0 - v[-1]]\n",
    "#     adv = torch.FloatTensor(adv)\n",
    "#     adv = disc_cuml_rew_calc(adv.numpy(),gamma*lamda)\n",
    "#     adv = torch.FloatTensor(adv)\n",
    "#     adv = (adv - adv.mean())/adv.std()\n",
    "#     clip_adv = torch.clamp(ratio, 1-clip_ratio, 1+clip_ratio) * adv\n",
    "#     loss_pi = -(torch.min(ratio * adv, clip_adv)).mean()\n",
    "#     ten_traj+=loss_pi\n",
    "#     loss_v = ((crit_net.forward(obj) - torch.FloatTensor(rews_disc_cuml)) ** 2).mean()\n",
    "#     ten_v+=loss_v\n",
    "#     if t % 10 == 0:\n",
    "#         print('training')\n",
    "# #         ten_traj = torch.FloatTensor(ten_traj)\n",
    "# #         ten_traj = ten_traj.mean()\n",
    "# #         ten_traj.requires_grad = True\n",
    "# #         ten_v = torch.FloatTensor(ten_v)\n",
    "# #         ten_v = ten_v.mean()\n",
    "# #         ten_v.requires_grad = True\n",
    "#         ten_traj /= 10\n",
    "#         ten_v /= 10\n",
    "#         for t in range(train_pi_iter):\n",
    "#             optim_actor.zero_grad()\n",
    "#             ten_traj.backward()\n",
    "#             optim_actor.step()\n",
    "#             if (new_policy - old_policy).mean().item() > 1.5 * target_kl:\n",
    "#                 print('early_stopping')\n",
    "#                 break\n",
    "#             for j in range(10):\n",
    "#                 new_policy = act_net.forward(obj,action=act)\n",
    "#                 ratio = torch.exp(new_policy-old_policy)\n",
    "#                 adv = [rews[i] + gamma*v[i+1] - v[i] for i in range(len(rews)-1)] + [0 - v[-1]]\n",
    "#                 adv = torch.FloatTensor(adv)\n",
    "#                 adv = disc_cuml_rew_calc(adv.numpy(),gamma*lamda)\n",
    "#                 adv = torch.FloatTensor(adv)\n",
    "#                 adv = (adv - adv.mean())/adv.std()\n",
    "#                 clip_adv = torch.clamp(ratio, 1-clip_ratio, 1+clip_ratio) * adv\n",
    "#                 loss_pi = -(torch.min(ratio * adv, clip_adv)).mean()\n",
    "#                 ten_traj+=loss_pi\n",
    "#             ten_traj /= 10\n",
    "            \n",
    "#         for t in range(train_v_iter):\n",
    "#             optim_critic.zero_grad()\n",
    "#             ten_v.backward()\n",
    "#             optim_critic.step()\n",
    "#             for j in range(10):\n",
    "#                 loss_v = ((crit_net.forward(obj) - torch.FloatTensor(rews_disc_cuml)) ** 2).mean()\n",
    "#                 ten_v+=loss_v\n",
    "#             ten_v /= 10\n",
    "            \n",
    "#         ten_traj = 0\n",
    "#         ten_v = 0"
   ]
  },
  {
   "cell_type": "code",
   "execution_count": null,
   "metadata": {},
   "outputs": [],
   "source": []
  },
  {
   "cell_type": "code",
   "execution_count": null,
   "metadata": {},
   "outputs": [],
   "source": []
  },
  {
   "cell_type": "code",
   "execution_count": null,
   "metadata": {},
   "outputs": [],
   "source": []
  },
  {
   "cell_type": "code",
   "execution_count": 63,
   "metadata": {},
   "outputs": [],
   "source": [
    "def reward_sense(randomness,rewards,noise,certainity):\n",
    "    if len(rewards) >= 2:\n",
    "        rew_last = rewards[-2]\n",
    "        rew_curr = rewards[-1]\n",
    "        if sum(rew_last) < sum(rew_curr):\n",
    "            randomness *= certainity\n",
    "        return randomness\n",
    "    else:\n",
    "        return randomness"
   ]
  },
  {
   "cell_type": "code",
   "execution_count": null,
   "metadata": {},
   "outputs": [],
   "source": []
  },
  {
   "cell_type": "code",
   "execution_count": null,
   "metadata": {},
   "outputs": [],
   "source": []
  },
  {
   "cell_type": "code",
   "execution_count": 64,
   "metadata": {},
   "outputs": [
    {
     "name": "stdout",
     "output_type": "stream",
     "text": [
      "0\n"
     ]
    },
    {
     "ename": "KeyboardInterrupt",
     "evalue": "",
     "output_type": "error",
     "traceback": [
      "\u001b[1;31m---------------------------------------------------------------------------\u001b[0m",
      "\u001b[1;31mKeyboardInterrupt\u001b[0m                         Traceback (most recent call last)",
      "\u001b[1;32m<ipython-input-64-38a57a4ad75f>\u001b[0m in \u001b[0;36m<module>\u001b[1;34m\u001b[0m\n\u001b[0;32m     13\u001b[0m     \u001b[1;32mwhile\u001b[0m \u001b[1;32mnot\u001b[0m \u001b[0mdone\u001b[0m\u001b[1;33m:\u001b[0m\u001b[1;33m\u001b[0m\u001b[1;33m\u001b[0m\u001b[0m\n\u001b[0;32m     14\u001b[0m         \u001b[0mv\u001b[0m \u001b[1;33m=\u001b[0m \u001b[0mcrit_net\u001b[0m\u001b[1;33m(\u001b[0m\u001b[0mobj\u001b[0m\u001b[1;33m)\u001b[0m\u001b[1;33m\u001b[0m\u001b[1;33m\u001b[0m\u001b[0m\n\u001b[1;32m---> 15\u001b[1;33m         \u001b[0mm\u001b[0m\u001b[1;33m,\u001b[0m\u001b[0mact\u001b[0m\u001b[1;33m,\u001b[0m\u001b[0mlog_p\u001b[0m \u001b[1;33m=\u001b[0m \u001b[0mact_net\u001b[0m\u001b[1;33m.\u001b[0m\u001b[0mforward\u001b[0m\u001b[1;33m(\u001b[0m\u001b[0mobj\u001b[0m\u001b[1;33m)\u001b[0m\u001b[1;33m\u001b[0m\u001b[1;33m\u001b[0m\u001b[0m\n\u001b[0m\u001b[0;32m     16\u001b[0m \u001b[1;31m#         if randomness > random.random():\u001b[0m\u001b[1;33m\u001b[0m\u001b[1;33m\u001b[0m\u001b[1;33m\u001b[0m\u001b[0m\n\u001b[0;32m     17\u001b[0m \u001b[1;31m#             act = random.choice(range(env.action_space.n))\u001b[0m\u001b[1;33m\u001b[0m\u001b[1;33m\u001b[0m\u001b[1;33m\u001b[0m\u001b[0m\n",
      "\u001b[1;32m<ipython-input-51-46b08d3f1d9c>\u001b[0m in \u001b[0;36mforward\u001b[1;34m(self, obj, action, max_act)\u001b[0m\n\u001b[0;32m     11\u001b[0m         \u001b[0mx\u001b[0m \u001b[1;33m=\u001b[0m \u001b[0mtorch\u001b[0m\u001b[1;33m.\u001b[0m\u001b[0mFloatTensor\u001b[0m\u001b[1;33m(\u001b[0m\u001b[0mobj\u001b[0m\u001b[1;33m)\u001b[0m\u001b[1;33m\u001b[0m\u001b[1;33m\u001b[0m\u001b[0m\n\u001b[0;32m     12\u001b[0m         \u001b[0mx\u001b[0m \u001b[1;33m=\u001b[0m \u001b[0mself\u001b[0m\u001b[1;33m.\u001b[0m\u001b[0melu1\u001b[0m\u001b[1;33m(\u001b[0m\u001b[0mself\u001b[0m\u001b[1;33m.\u001b[0m\u001b[0mfc1\u001b[0m\u001b[1;33m(\u001b[0m\u001b[0mx\u001b[0m\u001b[1;33m)\u001b[0m\u001b[1;33m)\u001b[0m\u001b[1;33m\u001b[0m\u001b[1;33m\u001b[0m\u001b[0m\n\u001b[1;32m---> 13\u001b[1;33m         \u001b[0mx\u001b[0m \u001b[1;33m=\u001b[0m \u001b[0mself\u001b[0m\u001b[1;33m.\u001b[0m\u001b[0melu2\u001b[0m\u001b[1;33m(\u001b[0m\u001b[0mself\u001b[0m\u001b[1;33m.\u001b[0m\u001b[0mfc2\u001b[0m\u001b[1;33m(\u001b[0m\u001b[0mx\u001b[0m\u001b[1;33m)\u001b[0m\u001b[1;33m)\u001b[0m\u001b[1;33m\u001b[0m\u001b[1;33m\u001b[0m\u001b[0m\n\u001b[0m\u001b[0;32m     14\u001b[0m         \u001b[0mlogits\u001b[0m \u001b[1;33m=\u001b[0m \u001b[0mself\u001b[0m\u001b[1;33m.\u001b[0m\u001b[0mfc3\u001b[0m\u001b[1;33m(\u001b[0m\u001b[0mx\u001b[0m\u001b[1;33m)\u001b[0m\u001b[1;33m\u001b[0m\u001b[1;33m\u001b[0m\u001b[0m\n\u001b[0;32m     15\u001b[0m         \u001b[0mm\u001b[0m \u001b[1;33m=\u001b[0m \u001b[0mCategorical\u001b[0m\u001b[1;33m(\u001b[0m\u001b[0mlogits\u001b[0m\u001b[1;33m=\u001b[0m\u001b[0mlogits\u001b[0m\u001b[1;33m)\u001b[0m\u001b[1;33m\u001b[0m\u001b[1;33m\u001b[0m\u001b[0m\n",
      "\u001b[1;32mC:\\ProgramData\\Anaconda3\\lib\\site-packages\\torch\\nn\\modules\\module.py\u001b[0m in \u001b[0;36m__call__\u001b[1;34m(self, *input, **kwargs)\u001b[0m\n\u001b[0;32m    539\u001b[0m             \u001b[0mresult\u001b[0m \u001b[1;33m=\u001b[0m \u001b[0mself\u001b[0m\u001b[1;33m.\u001b[0m\u001b[0m_slow_forward\u001b[0m\u001b[1;33m(\u001b[0m\u001b[1;33m*\u001b[0m\u001b[0minput\u001b[0m\u001b[1;33m,\u001b[0m \u001b[1;33m**\u001b[0m\u001b[0mkwargs\u001b[0m\u001b[1;33m)\u001b[0m\u001b[1;33m\u001b[0m\u001b[1;33m\u001b[0m\u001b[0m\n\u001b[0;32m    540\u001b[0m         \u001b[1;32melse\u001b[0m\u001b[1;33m:\u001b[0m\u001b[1;33m\u001b[0m\u001b[1;33m\u001b[0m\u001b[0m\n\u001b[1;32m--> 541\u001b[1;33m             \u001b[0mresult\u001b[0m \u001b[1;33m=\u001b[0m \u001b[0mself\u001b[0m\u001b[1;33m.\u001b[0m\u001b[0mforward\u001b[0m\u001b[1;33m(\u001b[0m\u001b[1;33m*\u001b[0m\u001b[0minput\u001b[0m\u001b[1;33m,\u001b[0m \u001b[1;33m**\u001b[0m\u001b[0mkwargs\u001b[0m\u001b[1;33m)\u001b[0m\u001b[1;33m\u001b[0m\u001b[1;33m\u001b[0m\u001b[0m\n\u001b[0m\u001b[0;32m    542\u001b[0m         \u001b[1;32mfor\u001b[0m \u001b[0mhook\u001b[0m \u001b[1;32min\u001b[0m \u001b[0mself\u001b[0m\u001b[1;33m.\u001b[0m\u001b[0m_forward_hooks\u001b[0m\u001b[1;33m.\u001b[0m\u001b[0mvalues\u001b[0m\u001b[1;33m(\u001b[0m\u001b[1;33m)\u001b[0m\u001b[1;33m:\u001b[0m\u001b[1;33m\u001b[0m\u001b[1;33m\u001b[0m\u001b[0m\n\u001b[0;32m    543\u001b[0m             \u001b[0mhook_result\u001b[0m \u001b[1;33m=\u001b[0m \u001b[0mhook\u001b[0m\u001b[1;33m(\u001b[0m\u001b[0mself\u001b[0m\u001b[1;33m,\u001b[0m \u001b[0minput\u001b[0m\u001b[1;33m,\u001b[0m \u001b[0mresult\u001b[0m\u001b[1;33m)\u001b[0m\u001b[1;33m\u001b[0m\u001b[1;33m\u001b[0m\u001b[0m\n",
      "\u001b[1;32mC:\\ProgramData\\Anaconda3\\lib\\site-packages\\torch\\nn\\modules\\linear.py\u001b[0m in \u001b[0;36mforward\u001b[1;34m(self, input)\u001b[0m\n\u001b[0;32m     85\u001b[0m \u001b[1;33m\u001b[0m\u001b[0m\n\u001b[0;32m     86\u001b[0m     \u001b[1;32mdef\u001b[0m \u001b[0mforward\u001b[0m\u001b[1;33m(\u001b[0m\u001b[0mself\u001b[0m\u001b[1;33m,\u001b[0m \u001b[0minput\u001b[0m\u001b[1;33m)\u001b[0m\u001b[1;33m:\u001b[0m\u001b[1;33m\u001b[0m\u001b[1;33m\u001b[0m\u001b[0m\n\u001b[1;32m---> 87\u001b[1;33m         \u001b[1;32mreturn\u001b[0m \u001b[0mF\u001b[0m\u001b[1;33m.\u001b[0m\u001b[0mlinear\u001b[0m\u001b[1;33m(\u001b[0m\u001b[0minput\u001b[0m\u001b[1;33m,\u001b[0m \u001b[0mself\u001b[0m\u001b[1;33m.\u001b[0m\u001b[0mweight\u001b[0m\u001b[1;33m,\u001b[0m \u001b[0mself\u001b[0m\u001b[1;33m.\u001b[0m\u001b[0mbias\u001b[0m\u001b[1;33m)\u001b[0m\u001b[1;33m\u001b[0m\u001b[1;33m\u001b[0m\u001b[0m\n\u001b[0m\u001b[0;32m     88\u001b[0m \u001b[1;33m\u001b[0m\u001b[0m\n\u001b[0;32m     89\u001b[0m     \u001b[1;32mdef\u001b[0m \u001b[0mextra_repr\u001b[0m\u001b[1;33m(\u001b[0m\u001b[0mself\u001b[0m\u001b[1;33m)\u001b[0m\u001b[1;33m:\u001b[0m\u001b[1;33m\u001b[0m\u001b[1;33m\u001b[0m\u001b[0m\n",
      "\u001b[1;32mC:\\ProgramData\\Anaconda3\\lib\\site-packages\\torch\\nn\\functional.py\u001b[0m in \u001b[0;36mlinear\u001b[1;34m(input, weight, bias)\u001b[0m\n\u001b[0;32m   1370\u001b[0m         \u001b[0mret\u001b[0m \u001b[1;33m=\u001b[0m \u001b[0mtorch\u001b[0m\u001b[1;33m.\u001b[0m\u001b[0maddmm\u001b[0m\u001b[1;33m(\u001b[0m\u001b[0mbias\u001b[0m\u001b[1;33m,\u001b[0m \u001b[0minput\u001b[0m\u001b[1;33m,\u001b[0m \u001b[0mweight\u001b[0m\u001b[1;33m.\u001b[0m\u001b[0mt\u001b[0m\u001b[1;33m(\u001b[0m\u001b[1;33m)\u001b[0m\u001b[1;33m)\u001b[0m\u001b[1;33m\u001b[0m\u001b[1;33m\u001b[0m\u001b[0m\n\u001b[0;32m   1371\u001b[0m     \u001b[1;32melse\u001b[0m\u001b[1;33m:\u001b[0m\u001b[1;33m\u001b[0m\u001b[1;33m\u001b[0m\u001b[0m\n\u001b[1;32m-> 1372\u001b[1;33m         \u001b[0moutput\u001b[0m \u001b[1;33m=\u001b[0m \u001b[0minput\u001b[0m\u001b[1;33m.\u001b[0m\u001b[0mmatmul\u001b[0m\u001b[1;33m(\u001b[0m\u001b[0mweight\u001b[0m\u001b[1;33m.\u001b[0m\u001b[0mt\u001b[0m\u001b[1;33m(\u001b[0m\u001b[1;33m)\u001b[0m\u001b[1;33m)\u001b[0m\u001b[1;33m\u001b[0m\u001b[1;33m\u001b[0m\u001b[0m\n\u001b[0m\u001b[0;32m   1373\u001b[0m         \u001b[1;32mif\u001b[0m \u001b[0mbias\u001b[0m \u001b[1;32mis\u001b[0m \u001b[1;32mnot\u001b[0m \u001b[1;32mNone\u001b[0m\u001b[1;33m:\u001b[0m\u001b[1;33m\u001b[0m\u001b[1;33m\u001b[0m\u001b[0m\n\u001b[0;32m   1374\u001b[0m             \u001b[0moutput\u001b[0m \u001b[1;33m+=\u001b[0m \u001b[0mbias\u001b[0m\u001b[1;33m\u001b[0m\u001b[1;33m\u001b[0m\u001b[0m\n",
      "\u001b[1;31mKeyboardInterrupt\u001b[0m: "
     ]
    }
   ],
   "source": [
    "traj_n = 1000\n",
    "trajectories = []\n",
    "# randomness = 1.0\n",
    "# certainity = 0.97\n",
    "# noise = 1.03\n",
    "# lowest_randomness = 0.05\n",
    "rewards = []\n",
    "for t in range(traj_n):\n",
    "    traj = []\n",
    "    rews = []\n",
    "    obj = env.reset()\n",
    "    done = False\n",
    "    while not done:\n",
    "        v = crit_net(obj)\n",
    "        m,act,log_p = act_net.forward(obj)\n",
    "#         if randomness > random.random():\n",
    "#             act = random.choice(range(env.action_space.n))\n",
    "        next_obj,reward,done,_ = env.step(act)\n",
    "        traj.append([act,obj,next_obj,reward,done,log_p,v])\n",
    "        rews.append(reward)\n",
    "        obj = next_obj\n",
    "#         if t % 10 == 0:\n",
    "#             env.render()\n",
    "    if t % 100 == 0:\n",
    "        print(t)\n",
    "#         env.close()\n",
    "    rews_disc_cuml_scaled = disc_cuml_rew_calc(rews)\n",
    "    rewards.append(rews)\n",
    "    traj = [i + [j] for i,j in zip(traj,rews_disc_cuml_scaled)]\n",
    "    trajectories.append(traj)\n",
    "    act,obj,_,rews,_,old_policy,v,rews_disc_cuml = zip(*traj)\n",
    "    old_policy = torch.FloatTensor(old_policy)\n",
    "    for t in range(train_pi_iter):\n",
    "        new_policy = act_net.forward(obj,action=act)\n",
    "        ratio = torch.exp(new_policy-old_policy)\n",
    "        adv = [rews[i] + gamma*v[i+1] - v[i] for i in range(len(rews)-1)] + [0 - v[-1]]\n",
    "        adv = torch.FloatTensor(adv)\n",
    "        adv = disc_cuml_rew_calc(adv.numpy(),gamma*lamda)\n",
    "        adv = torch.FloatTensor(adv)\n",
    "        adv = (adv - adv.mean())/adv.std()\n",
    "        clip_adv = torch.clamp(ratio, 1-clip_ratio, 1+clip_ratio) * adv\n",
    "        loss_pi = -(torch.min(ratio * adv, clip_adv)).mean()\n",
    "        optim_actor.zero_grad()\n",
    "        loss_pi.backward()\n",
    "        optim_actor.step()\n",
    "        if (new_policy - old_policy).mean().item() > 1.5 * target_kl:\n",
    "            print('early_stopping')\n",
    "            break\n",
    "    for t in range(train_v_iter):\n",
    "        loss_v = ((crit_net.forward(obj) - torch.FloatTensor(rews_disc_cuml)) ** 2).mean()\n",
    "        optim_critic.zero_grad()\n",
    "        loss_v.backward()\n",
    "        optim_critic.step()\n",
    "#     if randomness >= lowest_randomness:\n",
    "#         randomness = reward_sense(randomness,rewards,noise,certainity)\n",
    "#     print('rews_sum',sum(rewards[-1]))\n",
    "#     print('randomness',randomness)"
   ]
  },
  {
   "cell_type": "code",
   "execution_count": 65,
   "metadata": {},
   "outputs": [
    {
     "data": {
      "text/plain": [
       "tensor([-1.4587], grad_fn=<AddBackward0>)"
      ]
     },
     "execution_count": 65,
     "metadata": {},
     "output_type": "execute_result"
    }
   ],
   "source": [
    "crit_net(obj)"
   ]
  },
  {
   "cell_type": "code",
   "execution_count": 66,
   "metadata": {},
   "outputs": [
    {
     "data": {
      "text/plain": [
       "tensor([-1.4587], grad_fn=<AddBackward0>)"
      ]
     },
     "execution_count": 66,
     "metadata": {},
     "output_type": "execute_result"
    }
   ],
   "source": [
    "crit_net.forward(obj)"
   ]
  },
  {
   "cell_type": "code",
   "execution_count": null,
   "metadata": {},
   "outputs": [],
   "source": []
  },
  {
   "cell_type": "code",
   "execution_count": 36,
   "metadata": {},
   "outputs": [],
   "source": [
    "episode_returns = [sum([i[3] for i in t]) for t in trajectories]"
   ]
  },
  {
   "cell_type": "code",
   "execution_count": 37,
   "metadata": {},
   "outputs": [
    {
     "data": {
      "text/plain": [
       "[<matplotlib.lines.Line2D at 0x299c3e037f0>]"
      ]
     },
     "execution_count": 37,
     "metadata": {},
     "output_type": "execute_result"
    },
    {
     "data": {
      "image/png": "[encoded data removed]",
      "text/plain": [
       "<Figure size 432x288 with 1 Axes>"
      ]
     },
     "metadata": {
      "needs_background": "light"
     },
     "output_type": "display_data"
    }
   ],
   "source": [
    "plt.plot(episode_returns)"
   ]
  },
  {
   "cell_type": "code",
   "execution_count": null,
   "metadata": {},
   "outputs": [],
   "source": []
  },
  {
   "cell_type": "code",
   "execution_count": 49,
   "metadata": {},
   "outputs": [
    {
     "name": "stdout",
     "output_type": "stream",
     "text": [
      "-74.0\n"
     ]
    }
   ],
   "source": [
    "done = False\n",
    "obj = env.reset()\n",
    "rw = 0\n",
    "while not done:\n",
    "    act = act_net.forward(obj,max_act=True)\n",
    "    obj,reward,done,_ = env.step(act)\n",
    "    rw += reward\n",
    "    env.render()\n",
    "env.close()\n",
    "print(rw)"
   ]
  },
  {
   "cell_type": "code",
   "execution_count": 73,
   "metadata": {},
   "outputs": [
    {
     "data": {
      "text/plain": [
       "tensor(3)"
      ]
     },
     "execution_count": 73,
     "metadata": {},
     "output_type": "execute_result"
    }
   ],
   "source": [
    "m.logits.argmax().item()"
   ]
  },
  {
   "cell_type": "code",
   "execution_count": null,
   "metadata": {},
   "outputs": [],
   "source": []
  },
  {
   "cell_type": "code",
   "execution_count": 82,
   "metadata": {},
   "outputs": [
    {
     "name": "stderr",
     "output_type": "stream",
     "text": [
      "C:\\ProgramData\\Anaconda3\\lib\\site-packages\\torch\\serialization.py:292: UserWarning: Couldn't retrieve source code for container of type ActorNet. It won't be checked for correctness upon loading.\n",
      "  \"type \" + obj.__name__ + \". It won't be checked \"\n",
      "C:\\ProgramData\\Anaconda3\\lib\\site-packages\\torch\\serialization.py:292: UserWarning: Couldn't retrieve source code for container of type Linear. It won't be checked for correctness upon loading.\n",
      "  \"type \" + obj.__name__ + \". It won't be checked \"\n",
      "C:\\ProgramData\\Anaconda3\\lib\\site-packages\\torch\\serialization.py:292: UserWarning: Couldn't retrieve source code for container of type Tanh. It won't be checked for correctness upon loading.\n",
      "  \"type \" + obj.__name__ + \". It won't be checked \"\n"
     ]
    }
   ],
   "source": [
    "# torch.save(act_net,'ppo_cartpole')"
   ]
  },
  {
   "cell_type": "code",
   "execution_count": null,
   "metadata": {},
   "outputs": [],
   "source": [
    "gamma = 0.99\n",
    "lamda = 0.95\n",
    "clip_ratio = 0.2\n",
    "lr = 1e-3\n",
    "target_kl = 0.01\n",
    "train_pi_iter = 80\n",
    "train_v_iter = 80"
   ]
  }
 ],
 "metadata": {
  "kernelspec": {
   "display_name": "Python 3",
   "language": "python",
   "name": "python3"
  },
  "language_info": {
   "codemirror_mode": {
    "name": "ipython",
    "version": 3
   },
   "file_extension": ".py",
   "mimetype": "text/x-python",
   "name": "python",
   "nbconvert_exporter": "python",
   "pygments_lexer": "ipython3",
   "version": "3.7.3"
  }
 },
 "nbformat": 4,
 "nbformat_minor": 2
}
