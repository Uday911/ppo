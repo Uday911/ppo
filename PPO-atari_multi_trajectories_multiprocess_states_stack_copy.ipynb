{
  "nbformat": 4,
  "nbformat_minor": 0,
  "metadata": {
    "kernelspec": {
      "display_name": "Python 3",
      "language": "python",
      "name": "python3"
    },
    "language_info": {
      "codemirror_mode": {
        "name": "ipython",
        "version": 3
      },
      "file_extension": ".py",
      "mimetype": "text/x-python",
      "name": "python",
      "nbconvert_exporter": "python",
      "pygments_lexer": "ipython3",
      "version": "3.7.3"
    },
    "colab": {
      "name": "PPO-atari_multi_trajectories_multiprocess_states_stack.ipynb",
      "provenance": []
    }
  },
  "cells": [
    {
      "cell_type": "code",
      "metadata": {
        "id": "WM64W6FzSmC_",
        "colab_type": "code",
        "colab": {}
      },
      "source": [
        "import torch\n",
        "import gym\n",
        "import torch.nn as nn\n",
        "import torch.optim as optim\n",
        "from torch.distributions import Categorical\n",
        "from functools import reduce\n",
        "import numpy as np\n",
        "import matplotlib.pyplot as plt\n",
        "import scipy.signal\n",
        "import random\n",
        "from IPython.display import clear_output\n",
        "from multiprocessing.pool import ThreadPool\n",
        "import numpy as np"
      ],
      "execution_count": 0,
      "outputs": []
    },
    {
      "cell_type": "code",
      "metadata": {
        "id": "3xfeCZcxSmDG",
        "colab_type": "code",
        "colab": {}
      },
      "source": [
        "class ActorNet(nn.Module):\n",
        "    def __init__(self,input_dim_act,output_dim):\n",
        "        super(ActorNet,self).__init__()\n",
        "        self.fc1 = nn.Linear(input_dim_act,128)\n",
        "        self.elu1 = nn.Tanh()\n",
        "        self.fc2 = nn.Linear(128,64)\n",
        "        self.elu2 = nn.Tanh()\n",
        "        self.fc3 = nn.Linear(64,64)\n",
        "        self.elu3 = nn.Tanh()\n",
        "        self.fc4 = nn.Linear(64,output_dim)\n",
        "        \n",
        "    def forward(self,obj,action=False,max_act=False):\n",
        "        x = torch.FloatTensor(obj)\n",
        "        x = self.elu1(self.fc1(x))\n",
        "        x = self.elu2(self.fc2(x))\n",
        "        x = self.elu3(self.fc3(x))\n",
        "        logits = self.fc4(x)\n",
        "        m = Categorical(logits=logits)\n",
        "        act = m.sample()\n",
        "        log_p = m.log_prob(act)\n",
        "        if action:\n",
        "            return m.log_prob(torch.LongTensor(action))\n",
        "        else:\n",
        "            if max_act:\n",
        "                return torch.argmax(logits).item()\n",
        "            else:\n",
        "                return m,act.item(),log_p"
      ],
      "execution_count": 0,
      "outputs": []
    },
    {
      "cell_type": "code",
      "metadata": {
        "id": "HBhCFKpCSmDL",
        "colab_type": "code",
        "colab": {}
      },
      "source": [
        "n_stacks = 5\n",
        "make = 'Breakout-ram-v0'"
      ],
      "execution_count": 0,
      "outputs": []
    },
    {
      "cell_type": "code",
      "metadata": {
        "id": "vwxDNeaZSmDQ",
        "colab_type": "code",
        "colab": {}
      },
      "source": [
        "env = gym.make(make)"
      ],
      "execution_count": 0,
      "outputs": []
    },
    {
      "cell_type": "code",
      "metadata": {
        "id": "3BOauSd0SmDV",
        "colab_type": "code",
        "colab": {}
      },
      "source": [
        "input_dim = env.observation_space.shape[0]\n",
        "input_dim_act = n_stacks*env.observation_space.shape[0]\n",
        "input_dim_v = env.observation_space.shape[0]"
      ],
      "execution_count": 0,
      "outputs": []
    },
    {
      "cell_type": "code",
      "metadata": {
        "id": "84H2sJqzSmDa",
        "colab_type": "code",
        "colab": {}
      },
      "source": [
        "output_dim = env.action_space.n"
      ],
      "execution_count": 0,
      "outputs": []
    },
    {
      "cell_type": "code",
      "metadata": {
        "id": "TcA5zOkCSmDf",
        "colab_type": "code",
        "colab": {}
      },
      "source": [
        "act_net = ActorNet(input_dim_act,output_dim)"
      ],
      "execution_count": 0,
      "outputs": []
    },
    {
      "cell_type": "code",
      "metadata": {
        "id": "UxPTr_IdSmDk",
        "colab_type": "code",
        "colab": {}
      },
      "source": [
        "class CriticNet(nn.Module):\n",
        "    def __init__(self,input_dim_v):\n",
        "        super(CriticNet,self).__init__()\n",
        "        self.fc1 = nn.Linear(input_dim_v,128)\n",
        "        self.elu1 = nn.Tanh()\n",
        "        self.fc2 = nn.Linear(128,64)\n",
        "        self.elu2 = nn.Tanh()\n",
        "        self.fc3 = nn.Linear(64,64)\n",
        "        self.elu3 = nn.Tanh()\n",
        "        self.fc4 = nn.Linear(64,1)\n",
        "        \n",
        "    def forward(self,obj):\n",
        "        x = torch.FloatTensor(obj)\n",
        "        x = self.elu1(self.fc1(x))\n",
        "        x = self.elu2(self.fc2(x))\n",
        "        x = self.elu3(self.fc3(x))\n",
        "        v = self.fc4(x)\n",
        "        return v"
      ],
      "execution_count": 0,
      "outputs": []
    },
    {
      "cell_type": "code",
      "metadata": {
        "id": "LdRYyDrmSmDn",
        "colab_type": "code",
        "colab": {}
      },
      "source": [
        "crit_net = CriticNet(input_dim_v)"
      ],
      "execution_count": 0,
      "outputs": []
    },
    {
      "cell_type": "code",
      "metadata": {
        "id": "5z0MQDSdSmDy",
        "colab_type": "code",
        "colab": {}
      },
      "source": [
        "gamma = 0.99\n",
        "lamda = 0.95\n",
        "clip_ratio = 0.2\n",
        "lr_pi = 1e-4\n",
        "lr_v = 1e-3\n",
        "target_kl = 0.01\n",
        "train_pi_iter = 5\n",
        "train_v_iter = 5\n",
        "traj_n = 10\n",
        "iters = 1000"
      ],
      "execution_count": 0,
      "outputs": []
    },
    {
      "cell_type": "code",
      "metadata": {
        "id": "ZzRht7nBSmD5",
        "colab_type": "code",
        "colab": {}
      },
      "source": [
        "optim_actor = optim.Adam(params=act_net.parameters(),lr=lr_pi)\n",
        "optim_critic = optim.Adam(params=crit_net.parameters(),lr=lr_v)"
      ],
      "execution_count": 0,
      "outputs": []
    },
    {
      "cell_type": "code",
      "metadata": {
        "id": "g1ny95ROSmEA",
        "colab_type": "code",
        "colab": {}
      },
      "source": [
        "def disc_cuml_rew_calc(rews,gamma=gamma):\n",
        "    return list(scipy.signal.lfilter([1], [1, float(-gamma)], rews[::-1], axis=0)[::-1])"
      ],
      "execution_count": 0,
      "outputs": []
    },
    {
      "cell_type": "code",
      "metadata": {
        "id": "PKz8fBBBSmEK",
        "colab_type": "code",
        "colab": {}
      },
      "source": [
        "def traject(t):\n",
        "    traj = []\n",
        "    rews = []\n",
        "    env = gym.make(make)\n",
        "    obj = env.reset()\n",
        "    done = False\n",
        "    stacked_states = np.zeros((n_stacks,1,input_dim))\n",
        "    while not done:\n",
        "        stacked_states = np.concatenate((stacked_states[-1].reshape((1,1,input_dim)), stacked_states[0:-1]))\n",
        "        stacked_states[0] = obj.copy()\n",
        "        v = crit_net.forward(obj)\n",
        "        m,act,log_p = act_net.forward(stacked_states.reshape(1,n_stacks*input_dim))\n",
        "        next_obj,reward,done,_ = env.step(act)\n",
        "        traj.append([act,obj,next_obj,reward,done,log_p,v,stacked_states.reshape(1,n_stacks*input_dim)])\n",
        "        rews.append(reward)\n",
        "        obj = next_obj\n",
        "    rews_disc_cuml_scaled = disc_cuml_rew_calc(rews)\n",
        "    act,obj,_,rews,_,old_policy,v,stacked_states = zip(*traj)\n",
        "    adv = [rews[i] + gamma*v[i+1] - v[i] for i in range(len(rews)-1)] + [0 - v[-1]]\n",
        "    adv = torch.FloatTensor(adv)\n",
        "    adv = disc_cuml_rew_calc(adv.numpy(),gamma*lamda)\n",
        "    adv = torch.FloatTensor(adv)\n",
        "    adv = (adv - adv.mean())/adv.std()\n",
        "    traj = [i + [j,k] for i,j,k in zip(traj,rews_disc_cuml_scaled,adv)]\n",
        "    return traj,rews"
      ],
      "execution_count": 0,
      "outputs": []
    },
    {
      "cell_type": "code",
      "metadata": {
        "id": "weFRlvy7SmEZ",
        "colab_type": "code",
        "colab": {
          "base_uri": "https://localhost:8080/",
          "height": 399
        },
        "outputId": "b6116250-2570-4767-b563-fa3d7a08b15c"
      },
      "source": [
        "rewards = []\n",
        "for k in range(iters):\n",
        "    print(k)\n",
        "    process = ThreadPool(processes=1)\n",
        "    out = process.map(traject,range(10))\n",
        "    process.close()\n",
        "    process.join()\n",
        "    trajectories,rewards_t = list(zip(*out))\n",
        "    rewards.extend(rewards_t)\n",
        "    trajectories = reduce(lambda a,b: a+b,trajectories)\n",
        "    act,obj,_,rews,_,old_policy,v,stacked_states,rews_disc_cuml,adv = zip(*trajectories)\n",
        "    adv = torch.FloatTensor(adv)\n",
        "    old_policy = torch.FloatTensor(old_policy)\n",
        "\n",
        "    for t in range(train_pi_iter):\n",
        "        new_policy = act_net.forward(stacked_states,action=act)\n",
        "        ratio = torch.exp(new_policy-old_policy)\n",
        "        clip_adv = torch.clamp(ratio, 1-clip_ratio, 1+clip_ratio) * adv\n",
        "        loss_pi = -(torch.min(ratio * adv, clip_adv)).mean()\n",
        "        optim_actor.zero_grad()\n",
        "        loss_pi.backward()\n",
        "        optim_actor.step()\n",
        "        if (new_policy - old_policy).mean().item() > 1.5 * target_kl:\n",
        "            print('early_stopping')\n",
        "            break\n",
        "\n",
        "    for t in range(train_v_iter):\n",
        "        loss_v = ((crit_net.forward(obj) - torch.FloatTensor(rews_disc_cuml)) ** 2).mean()\n",
        "        optim_critic.zero_grad()\n",
        "        loss_v.backward()\n",
        "        optim_critic.step()\n",
        "        \n",
        "        \n",
        "    if k % 10 == 0:\n",
        "        clear_output(wait=True)\n",
        "        print(k)\n",
        "        episode_returns = [sum(i) for i in rewards]\n",
        "        plt.plot(episode_returns)\n",
        "        plt.show()"
      ],
      "execution_count": 0,
      "outputs": [
        {
          "output_type": "stream",
          "text": [
            "400\n"
          ],
          "name": "stdout"
        },
        {
          "output_type": "display_data",
          "data": {
            "image/png": "[encoded data removed]",
            "text/plain": [
              "<Figure size 432x288 with 1 Axes>"
            ]
          },
          "metadata": {
            "tags": [],
            "needs_background": "light"
          }
        },
        {
          "output_type": "stream",
          "text": [
            "401\n",
            "402\n",
            "403\n",
            "404\n",
            "405\n",
            "406\n",
            "407\n"
          ],
          "name": "stdout"
        }
      ]
    },
    {
      "cell_type": "code",
      "metadata": {
        "id": "CrTg3AFTSmEg",
        "colab_type": "code",
        "colab": {}
      },
      "source": [
        ""
      ],
      "execution_count": 0,
      "outputs": []
    },
    {
      "cell_type": "code",
      "metadata": {
        "id": "6Mdk30CkSmFa",
        "colab_type": "code",
        "colab": {}
      },
      "source": [
        ""
      ],
      "execution_count": 0,
      "outputs": []
    },
    {
      "cell_type": "code",
      "metadata": {
        "id": "Je5Ojo1wSmFe",
        "colab_type": "code",
        "colab": {}
      },
      "source": [
        ""
      ],
      "execution_count": 0,
      "outputs": []
    },
    {
      "cell_type": "code",
      "metadata": {
        "id": "JXGTDU0zSmFv",
        "colab_type": "code",
        "colab": {}
      },
      "source": [
        "episode_returns = [sum(i) for i in rewards]"
      ],
      "execution_count": 0,
      "outputs": []
    },
    {
      "cell_type": "code",
      "metadata": {
        "id": "v4h2Ss1FSmFx",
        "colab_type": "code",
        "colab": {
          "base_uri": "https://localhost:8080/",
          "height": 282
        },
        "outputId": "88cdd6bb-a4d2-48c1-c609-a1f8f58ab1dc"
      },
      "source": [
        "plt.plot(episode_returns)"
      ],
      "execution_count": 16,
      "outputs": [
        {
          "output_type": "execute_result",
          "data": {
            "text/plain": [
              "[<matplotlib.lines.Line2D at 0x7fa8b6db7240>]"
            ]
          },
          "metadata": {
            "tags": []
          },
          "execution_count": 16
        },
        {
          "output_type": "display_data",
          "data": {
            "image/png": "[encoded data removed]",
            "text/plain": [
              "<Figure size 432x288 with 1 Axes>"
            ]
          },
          "metadata": {
            "tags": [],
            "needs_background": "light"
          }
        }
      ]
    },
    {
      "cell_type": "code",
      "metadata": {
        "id": "ZqvEeMdXSmF0",
        "colab_type": "code",
        "colab": {}
      },
      "source": [
        ""
      ],
      "execution_count": 0,
      "outputs": []
    },
    {
      "cell_type": "code",
      "metadata": {
        "id": "MdU7eQu5SmF2",
        "colab_type": "code",
        "colab": {}
      },
      "source": [
        "import time"
      ],
      "execution_count": 0,
      "outputs": []
    },
    {
      "cell_type": "code",
      "metadata": {
        "id": "qdOzuAd2SmF5",
        "colab_type": "code",
        "colab": {},
        "outputId": "e778e035-d9ef-48b1-d61a-320cb876cbc5"
      },
      "source": [
        "done = False\n",
        "obj = env.reset()\n",
        "rw = 0\n",
        "while not done:\n",
        "#     print('**********************************')\n",
        "    act = k.forward(obj,max_act=True)\n",
        "    time.sleep(0.02)\n",
        "#     print(m.logits)\n",
        "#     print(m.logits.argmax())\n",
        "#     print(act)\n",
        "    obj,reward,done,_ = env.step(act)\n",
        "    rw += reward\n",
        "    env.render()\n",
        "env.close()\n",
        "print(rw)"
      ],
      "execution_count": 0,
      "outputs": [
        {
          "output_type": "stream",
          "text": [
            "270.0\n"
          ],
          "name": "stdout"
        }
      ]
    },
    {
      "cell_type": "code",
      "metadata": {
        "id": "4Q-qNwMuSmF7",
        "colab_type": "code",
        "colab": {}
      },
      "source": [
        "env.close()"
      ],
      "execution_count": 0,
      "outputs": []
    },
    {
      "cell_type": "code",
      "metadata": {
        "id": "9H3t_thjSmF_",
        "colab_type": "code",
        "colab": {},
        "outputId": "45d6caf5-bf6a-4643-e9e9-4a00756f7704"
      },
      "source": [
        "act"
      ],
      "execution_count": 0,
      "outputs": [
        {
          "output_type": "execute_result",
          "data": {
            "text/plain": [
              "0"
            ]
          },
          "metadata": {
            "tags": []
          },
          "execution_count": 40
        }
      ]
    },
    {
      "cell_type": "code",
      "metadata": {
        "id": "cZk43wi2SmGC",
        "colab_type": "code",
        "colab": {},
        "outputId": "2359916d-7e18-4c8d-d868-ec83a3187b3d"
      },
      "source": [
        "m.logits"
      ],
      "execution_count": 0,
      "outputs": [
        {
          "output_type": "execute_result",
          "data": {
            "text/plain": [
              "tensor([-1.6989, -1.7558, -2.4567, -0.5823], grad_fn=<SubBackward0>)"
            ]
          },
          "metadata": {
            "tags": []
          },
          "execution_count": 43
        }
      ]
    },
    {
      "cell_type": "code",
      "metadata": {
        "id": "Gd6NQxUhSmGF",
        "colab_type": "code",
        "colab": {}
      },
      "source": [
        ""
      ],
      "execution_count": 0,
      "outputs": []
    },
    {
      "cell_type": "code",
      "metadata": {
        "id": "4ls097nWSmGH",
        "colab_type": "code",
        "colab": {
          "base_uri": "https://localhost:8080/",
          "height": 303
        },
        "outputId": "c2696258-2079-4c62-ace3-d8bce8331bba"
      },
      "source": [
        "k = torch.load('ppo_multitraj_state_stack_breakout')"
      ],
      "execution_count": 17,
      "outputs": [
        {
          "output_type": "error",
          "ename": "FileNotFoundError",
          "evalue": "ignored",
          "traceback": [
            "\u001b[0;31m---------------------------------------------------------------------------\u001b[0m",
            "\u001b[0;31mFileNotFoundError\u001b[0m                         Traceback (most recent call last)",
            "\u001b[0;32m<ipython-input-17-c84e3a2a5400>\u001b[0m in \u001b[0;36m<module>\u001b[0;34m()\u001b[0m\n\u001b[0;32m----> 1\u001b[0;31m \u001b[0mk\u001b[0m \u001b[0;34m=\u001b[0m \u001b[0mtorch\u001b[0m\u001b[0;34m.\u001b[0m\u001b[0mload\u001b[0m\u001b[0;34m(\u001b[0m\u001b[0;34m'ppo_multitraj_state_stack_breakout'\u001b[0m\u001b[0;34m)\u001b[0m\u001b[0;34m\u001b[0m\u001b[0;34m\u001b[0m\u001b[0m\n\u001b[0m",
            "\u001b[0;32m/usr/local/lib/python3.6/dist-packages/torch/serialization.py\u001b[0m in \u001b[0;36mload\u001b[0;34m(f, map_location, pickle_module, **pickle_load_args)\u001b[0m\n\u001b[1;32m    523\u001b[0m         \u001b[0mpickle_load_args\u001b[0m\u001b[0;34m[\u001b[0m\u001b[0;34m'encoding'\u001b[0m\u001b[0;34m]\u001b[0m \u001b[0;34m=\u001b[0m \u001b[0;34m'utf-8'\u001b[0m\u001b[0;34m\u001b[0m\u001b[0;34m\u001b[0m\u001b[0m\n\u001b[1;32m    524\u001b[0m \u001b[0;34m\u001b[0m\u001b[0m\n\u001b[0;32m--> 525\u001b[0;31m     \u001b[0;32mwith\u001b[0m \u001b[0m_open_file_like\u001b[0m\u001b[0;34m(\u001b[0m\u001b[0mf\u001b[0m\u001b[0;34m,\u001b[0m \u001b[0;34m'rb'\u001b[0m\u001b[0;34m)\u001b[0m \u001b[0;32mas\u001b[0m \u001b[0mopened_file\u001b[0m\u001b[0;34m:\u001b[0m\u001b[0;34m\u001b[0m\u001b[0;34m\u001b[0m\u001b[0m\n\u001b[0m\u001b[1;32m    526\u001b[0m         \u001b[0;32mif\u001b[0m \u001b[0m_is_zipfile\u001b[0m\u001b[0;34m(\u001b[0m\u001b[0mopened_file\u001b[0m\u001b[0;34m)\u001b[0m\u001b[0;34m:\u001b[0m\u001b[0;34m\u001b[0m\u001b[0;34m\u001b[0m\u001b[0m\n\u001b[1;32m    527\u001b[0m             \u001b[0;32mwith\u001b[0m \u001b[0m_open_zipfile_reader\u001b[0m\u001b[0;34m(\u001b[0m\u001b[0mf\u001b[0m\u001b[0;34m)\u001b[0m \u001b[0;32mas\u001b[0m \u001b[0mopened_zipfile\u001b[0m\u001b[0;34m:\u001b[0m\u001b[0;34m\u001b[0m\u001b[0;34m\u001b[0m\u001b[0m\n",
            "\u001b[0;32m/usr/local/lib/python3.6/dist-packages/torch/serialization.py\u001b[0m in \u001b[0;36m_open_file_like\u001b[0;34m(name_or_buffer, mode)\u001b[0m\n\u001b[1;32m    210\u001b[0m \u001b[0;32mdef\u001b[0m \u001b[0m_open_file_like\u001b[0m\u001b[0;34m(\u001b[0m\u001b[0mname_or_buffer\u001b[0m\u001b[0;34m,\u001b[0m \u001b[0mmode\u001b[0m\u001b[0;34m)\u001b[0m\u001b[0;34m:\u001b[0m\u001b[0;34m\u001b[0m\u001b[0;34m\u001b[0m\u001b[0m\n\u001b[1;32m    211\u001b[0m     \u001b[0;32mif\u001b[0m \u001b[0m_is_path\u001b[0m\u001b[0;34m(\u001b[0m\u001b[0mname_or_buffer\u001b[0m\u001b[0;34m)\u001b[0m\u001b[0;34m:\u001b[0m\u001b[0;34m\u001b[0m\u001b[0;34m\u001b[0m\u001b[0m\n\u001b[0;32m--> 212\u001b[0;31m         \u001b[0;32mreturn\u001b[0m \u001b[0m_open_file\u001b[0m\u001b[0;34m(\u001b[0m\u001b[0mname_or_buffer\u001b[0m\u001b[0;34m,\u001b[0m \u001b[0mmode\u001b[0m\u001b[0;34m)\u001b[0m\u001b[0;34m\u001b[0m\u001b[0;34m\u001b[0m\u001b[0m\n\u001b[0m\u001b[1;32m    213\u001b[0m     \u001b[0;32melse\u001b[0m\u001b[0;34m:\u001b[0m\u001b[0;34m\u001b[0m\u001b[0;34m\u001b[0m\u001b[0m\n\u001b[1;32m    214\u001b[0m         \u001b[0;32mif\u001b[0m \u001b[0;34m'w'\u001b[0m \u001b[0;32min\u001b[0m \u001b[0mmode\u001b[0m\u001b[0;34m:\u001b[0m\u001b[0;34m\u001b[0m\u001b[0;34m\u001b[0m\u001b[0m\n",
            "\u001b[0;32m/usr/local/lib/python3.6/dist-packages/torch/serialization.py\u001b[0m in \u001b[0;36m__init__\u001b[0;34m(self, name, mode)\u001b[0m\n\u001b[1;32m    191\u001b[0m \u001b[0;32mclass\u001b[0m \u001b[0m_open_file\u001b[0m\u001b[0;34m(\u001b[0m\u001b[0m_opener\u001b[0m\u001b[0;34m)\u001b[0m\u001b[0;34m:\u001b[0m\u001b[0;34m\u001b[0m\u001b[0;34m\u001b[0m\u001b[0m\n\u001b[1;32m    192\u001b[0m     \u001b[0;32mdef\u001b[0m \u001b[0m__init__\u001b[0m\u001b[0;34m(\u001b[0m\u001b[0mself\u001b[0m\u001b[0;34m,\u001b[0m \u001b[0mname\u001b[0m\u001b[0;34m,\u001b[0m \u001b[0mmode\u001b[0m\u001b[0;34m)\u001b[0m\u001b[0;34m:\u001b[0m\u001b[0;34m\u001b[0m\u001b[0;34m\u001b[0m\u001b[0m\n\u001b[0;32m--> 193\u001b[0;31m         \u001b[0msuper\u001b[0m\u001b[0;34m(\u001b[0m\u001b[0m_open_file\u001b[0m\u001b[0;34m,\u001b[0m \u001b[0mself\u001b[0m\u001b[0;34m)\u001b[0m\u001b[0;34m.\u001b[0m\u001b[0m__init__\u001b[0m\u001b[0;34m(\u001b[0m\u001b[0mopen\u001b[0m\u001b[0;34m(\u001b[0m\u001b[0mname\u001b[0m\u001b[0;34m,\u001b[0m \u001b[0mmode\u001b[0m\u001b[0;34m)\u001b[0m\u001b[0;34m)\u001b[0m\u001b[0;34m\u001b[0m\u001b[0;34m\u001b[0m\u001b[0m\n\u001b[0m\u001b[1;32m    194\u001b[0m \u001b[0;34m\u001b[0m\u001b[0m\n\u001b[1;32m    195\u001b[0m     \u001b[0;32mdef\u001b[0m \u001b[0m__exit__\u001b[0m\u001b[0;34m(\u001b[0m\u001b[0mself\u001b[0m\u001b[0;34m,\u001b[0m \u001b[0;34m*\u001b[0m\u001b[0margs\u001b[0m\u001b[0;34m)\u001b[0m\u001b[0;34m:\u001b[0m\u001b[0;34m\u001b[0m\u001b[0;34m\u001b[0m\u001b[0m\n",
            "\u001b[0;31mFileNotFoundError\u001b[0m: [Errno 2] No such file or directory: 'ppo_multitraj_state_stack_breakout'"
          ]
        }
      ]
    },
    {
      "cell_type": "code",
      "metadata": {
        "id": "dK_-TAppSmGI",
        "colab_type": "code",
        "colab": {
          "base_uri": "https://localhost:8080/",
          "height": 70
        },
        "outputId": "897f7ad7-90c7-4250-8bd0-d137a04c01ad"
      },
      "source": [
        "torch.save(act_net,'ppo_multitraj_state_stack_breakout')"
      ],
      "execution_count": 18,
      "outputs": [
        {
          "output_type": "stream",
          "text": [
            "/usr/local/lib/python3.6/dist-packages/torch/serialization.py:360: UserWarning: Couldn't retrieve source code for container of type ActorNet. It won't be checked for correctness upon loading.\n",
            "  \"type \" + obj.__name__ + \". It won't be checked \"\n"
          ],
          "name": "stderr"
        }
      ]
    },
    {
      "cell_type": "code",
      "metadata": {
        "id": "GrKfR3YJSmGK",
        "colab_type": "code",
        "colab": {}
      },
      "source": [
        ""
      ],
      "execution_count": 0,
      "outputs": []
    }
  ]
}