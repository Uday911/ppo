{
 "cells": [
  {
   "cell_type": "code",
   "execution_count": 1,
   "metadata": {},
   "outputs": [],
   "source": [
    "import torch\n",
    "import gym\n",
    "import torch.nn as nn\n",
    "import torch.optim as optim\n",
    "from torch.distributions import Categorical\n",
    "from functools import reduce\n",
    "import numpy as np\n",
    "import matplotlib.pyplot as plt\n",
    "import scipy.signal\n",
    "import random\n",
    "from IPython.display import clear_output\n",
    "from multiprocessing.pool import ThreadPool"
   ]
  },
  {
   "cell_type": "code",
   "execution_count": 2,
   "metadata": {},
   "outputs": [],
   "source": [
    "class ActorNet(nn.Module):\n",
    "    def __init__(self,input_dim,output_dim):\n",
    "        super(ActorNet,self).__init__()\n",
    "        self.fc1 = nn.Linear(input_dim,256)\n",
    "        self.elu1 = nn.Tanh()\n",
    "#         self.fc2 = nn.Linear(512,256)\n",
    "#         self.elu2 = nn.Tanh()\n",
    "        self.fc3 = nn.Linear(256,64)\n",
    "        self.elu3 = nn.Tanh()\n",
    "        self.fc4 = nn.Linear(64,output_dim)\n",
    "        self.value = nn.Linear(64,1)\n",
    "        \n",
    "    def forward(self,obj,action=False,max_act=False,value=False):\n",
    "        x = torch.FloatTensor(obj)\n",
    "        x = self.elu1(self.fc1(x))\n",
    "#         x = self.elu2(self.fc2(x))\n",
    "        x = self.elu3(self.fc3(x))\n",
    "        logits = self.fc4(x)\n",
    "        v = self.value(x)\n",
    "        m = Categorical(logits=logits)\n",
    "        act = m.sample()\n",
    "        log_p = m.log_prob(act)\n",
    "        if action:\n",
    "            return m.log_prob(torch.LongTensor(action))\n",
    "        elif value:\n",
    "            return v\n",
    "        else:\n",
    "            if max_act:\n",
    "                return torch.argmax(logits).item()\n",
    "            else:\n",
    "                return m,act.item(),log_p,v\n",
    "            "
   ]
  },
  {
   "cell_type": "code",
   "execution_count": 3,
   "metadata": {},
   "outputs": [],
   "source": [
    "make = 'Pong-ram-v0'"
   ]
  },
  {
   "cell_type": "code",
   "execution_count": 4,
   "metadata": {},
   "outputs": [],
   "source": [
    "env = gym.make(make)"
   ]
  },
  {
   "cell_type": "code",
   "execution_count": 5,
   "metadata": {},
   "outputs": [],
   "source": [
    "input_dim = env.observation_space.shape[0]"
   ]
  },
  {
   "cell_type": "code",
   "execution_count": 6,
   "metadata": {},
   "outputs": [],
   "source": [
    "output_dim = env.action_space.n"
   ]
  },
  {
   "cell_type": "code",
   "execution_count": 7,
   "metadata": {},
   "outputs": [],
   "source": [
    "act_net = ActorNet(input_dim,output_dim)"
   ]
  },
  {
   "cell_type": "code",
   "execution_count": 8,
   "metadata": {},
   "outputs": [],
   "source": [
    "device = torch.device(\"cuda:0\" if torch.cuda.is_available() else \"cpu\")"
   ]
  },
  {
   "cell_type": "code",
   "execution_count": null,
   "metadata": {},
   "outputs": [],
   "source": [
    "gamma = 0.99\n",
    "lamda = 0.95\n",
    "clip_ratio = 0.2\n",
    "lr_pi = 1e-4\n",
    "lr_v = 1e-3\n",
    "target_kl = 0.01\n",
    "train_pi_iter = 5\n",
    "train_v_iter = 5\n",
    "traj_n = 10\n",
    "iters = 200\n",
    "batch_size = 32"
   ]
  },
  {
   "cell_type": "code",
   "execution_count": null,
   "metadata": {},
   "outputs": [],
   "source": [
    "optim_actor = optim.Adam(params=act_net.parameters(),lr=lr_pi)"
   ]
  },
  {
   "cell_type": "code",
   "execution_count": null,
   "metadata": {},
   "outputs": [],
   "source": [
    "def disc_cuml_rew_calc(rews,gamma=gamma):\n",
    "    return list(scipy.signal.lfilter([1], [1, float(-gamma)], rews[::-1], axis=0)[::-1])"
   ]
  },
  {
   "cell_type": "code",
   "execution_count": null,
   "metadata": {},
   "outputs": [],
   "source": [
    "def traject(t):\n",
    "    traj = []\n",
    "    rews = []\n",
    "    env = gym.make(make)\n",
    "    obj = env.reset()\n",
    "    done = False\n",
    "    while not done:\n",
    "        m,act,log_p,v = act_net.forward(obj)\n",
    "        next_obj,reward,done,_ = env.step(act)\n",
    "        reward += m.entropy().item() * 0.1\n",
    "        traj.append([act,obj,next_obj,reward,done,log_p,v])\n",
    "        rews.append(reward)\n",
    "        obj = next_obj\n",
    "    rews_disc_cuml_scaled = disc_cuml_rew_calc(rews)\n",
    "    act,obj,_,rews,_,old_policy,v = zip(*traj)\n",
    "    adv = [rews[i] + gamma*v[i+1] - v[i] for i in range(len(rews)-1)] + [0 - v[-1]]\n",
    "    adv = torch.FloatTensor(adv)\n",
    "    adv = disc_cuml_rew_calc(adv.numpy(),gamma*lamda)\n",
    "    adv = torch.FloatTensor(adv)\n",
    "    adv = (adv - adv.mean())/adv.std()\n",
    "    traj = [i + [j,k] for i,j,k in zip(traj,rews_disc_cuml_scaled,adv)]\n",
    "    return traj,rews"
   ]
  },
  {
   "cell_type": "code",
   "execution_count": null,
   "metadata": {},
   "outputs": [],
   "source": [
    "def break_list(sublst_ln,lst):\n",
    "    \"\"\"\n",
    "    Divides given list into sublists of given length\n",
    "    \"\"\"\n",
    "    all_parts = len(lst)//sublst_ln\n",
    "    last_part = len(lst)%sublst_ln\n",
    "    tmp = []\n",
    "    for i in range(all_parts):\n",
    "        tmp.append(lst[i*sublst_ln:(i+1)*sublst_ln])\n",
    "    if last_part > 0:\n",
    "        tmp.append(lst[sublst_ln*all_parts:])\n",
    "    return tmp"
   ]
  },
  {
   "cell_type": "code",
   "execution_count": null,
   "metadata": {},
   "outputs": [
    {
     "name": "stdout",
     "output_type": "stream",
     "text": [
      "10\n"
     ]
    },
    {
     "data": {
      "image/png": "[encoded data removed]",
      "text/plain": [
       "<Figure size 432x288 with 1 Axes>"
      ]
     },
     "metadata": {
      "needs_background": "light"
     },
     "output_type": "display_data"
    },
    {
     "name": "stdout",
     "output_type": "stream",
     "text": [
      "11\n",
      "12\n",
      "13\n",
      "14\n"
     ]
    }
   ],
   "source": [
    "rewards = []\n",
    "for k in range(iters):\n",
    "    print(k)\n",
    "    process = ThreadPool(processes=8)\n",
    "    out = process.map(traject,range(traj_n))\n",
    "    process.close()\n",
    "    process.join()\n",
    "    broken_out = break_list(batch_size,out)\n",
    "    for b in broken_out:\n",
    "        trajectories,rewards_t = list(zip(*b))\n",
    "        rewards.extend(rewards_t)\n",
    "        trajectories = reduce(lambda a,b: a+b,trajectories)\n",
    "        act,obj,_,rews,_,old_policy,v,rews_disc_cuml,adv = zip(*trajectories)\n",
    "        adv = torch.FloatTensor(adv)\n",
    "        old_policy = torch.FloatTensor(old_policy)\n",
    "        old_policy = old_policy\n",
    "        for t in range(train_pi_iter):\n",
    "            new_policy = act_net.forward(obj,action=act)\n",
    "            ratio = torch.exp(new_policy-old_policy)\n",
    "            clip_adv = torch.clamp(ratio, 1-clip_ratio, 1+clip_ratio) * adv\n",
    "            loss_pi = -(torch.min(ratio * adv, clip_adv)).mean()\n",
    "            loss_v = ((act_net.forward(obj,value=True) - torch.FloatTensor(rews_disc_cuml)) ** 2).mean()\n",
    "            loss = loss_pi + loss_v\n",
    "            optim_actor.zero_grad()\n",
    "            loss.backward()\n",
    "            optim_actor.step()\n",
    "            if (new_policy - old_policy).mean().item() > 1.5 * target_kl:\n",
    "                print('early_stopping')\n",
    "                break\n",
    "\n",
    "        if k % 10 == 0:\n",
    "            clear_output(wait=True)\n",
    "            print(k)\n",
    "            episode_returns = [sum(i) for i in rewards]\n",
    "            plt.plot(episode_returns)\n",
    "            plt.show()"
   ]
  },
  {
   "cell_type": "code",
   "execution_count": null,
   "metadata": {},
   "outputs": [],
   "source": []
  },
  {
   "cell_type": "code",
   "execution_count": 90,
   "metadata": {},
   "outputs": [],
   "source": [
    "episode_returns = [sum(i) for i in rewards]"
   ]
  },
  {
   "cell_type": "code",
   "execution_count": 91,
   "metadata": {},
   "outputs": [
    {
     "data": {
      "text/plain": [
       "[<matplotlib.lines.Line2D at 0x1c202588630>]"
      ]
     },
     "execution_count": 91,
     "metadata": {},
     "output_type": "execute_result"
    },
    {
     "data": {
      "image/png": "[encoded data removed]",
      "text/plain": [
       "<Figure size 432x288 with 1 Axes>"
      ]
     },
     "metadata": {
      "needs_background": "light"
     },
     "output_type": "display_data"
    }
   ],
   "source": [
    "plt.plot(episode_returns)"
   ]
  },
  {
   "cell_type": "code",
   "execution_count": null,
   "metadata": {},
   "outputs": [],
   "source": []
  },
  {
   "cell_type": "code",
   "execution_count": 92,
   "metadata": {},
   "outputs": [],
   "source": [
    "import time"
   ]
  },
  {
   "cell_type": "code",
   "execution_count": 98,
   "metadata": {},
   "outputs": [
    {
     "name": "stdout",
     "output_type": "stream",
     "text": [
      "-500.0\n"
     ]
    }
   ],
   "source": [
    "done = False\n",
    "obj = env.reset()\n",
    "rw = 0\n",
    "while not done:\n",
    "# for r in range(800):\n",
    "#     print('**********************************')\n",
    "    m,act,log_p = act_net.forward(obj)\n",
    "#     time.sleep(0.02)\n",
    "#     print(m.logits)\n",
    "#     print(m.logits.argmax())\n",
    "#     print(act)\n",
    "    obj,reward,done,_ = env.step(act)\n",
    "    rw += reward\n",
    "    env.render()\n",
    "env.close()\n",
    "print(rw)"
   ]
  },
  {
   "cell_type": "code",
   "execution_count": 59,
   "metadata": {},
   "outputs": [],
   "source": [
    "env.close()"
   ]
  },
  {
   "cell_type": "code",
   "execution_count": 40,
   "metadata": {},
   "outputs": [
    {
     "data": {
      "text/plain": [
       "0"
      ]
     },
     "execution_count": 40,
     "metadata": {},
     "output_type": "execute_result"
    }
   ],
   "source": [
    "act"
   ]
  },
  {
   "cell_type": "code",
   "execution_count": 43,
   "metadata": {},
   "outputs": [
    {
     "data": {
      "text/plain": [
       "tensor([-1.6989, -1.7558, -2.4567, -0.5823], grad_fn=<SubBackward0>)"
      ]
     },
     "execution_count": 43,
     "metadata": {},
     "output_type": "execute_result"
    }
   ],
   "source": [
    "m.logits"
   ]
  },
  {
   "cell_type": "code",
   "execution_count": null,
   "metadata": {},
   "outputs": [],
   "source": []
  },
  {
   "cell_type": "code",
   "execution_count": 28,
   "metadata": {},
   "outputs": [],
   "source": [
    "k = torch.load('ppo_multitraj_cartpole')"
   ]
  },
  {
   "cell_type": "code",
   "execution_count": 120,
   "metadata": {},
   "outputs": [
    {
     "name": "stderr",
     "output_type": "stream",
     "text": [
      "C:\\ProgramData\\Anaconda3\\lib\\site-packages\\torch\\serialization.py:292: UserWarning: Couldn't retrieve source code for container of type ActorNet. It won't be checked for correctness upon loading.\n",
      "  \"type \" + obj.__name__ + \". It won't be checked \"\n",
      "C:\\ProgramData\\Anaconda3\\lib\\site-packages\\torch\\serialization.py:292: UserWarning: Couldn't retrieve source code for container of type Linear. It won't be checked for correctness upon loading.\n",
      "  \"type \" + obj.__name__ + \". It won't be checked \"\n",
      "C:\\ProgramData\\Anaconda3\\lib\\site-packages\\torch\\serialization.py:292: UserWarning: Couldn't retrieve source code for container of type Tanh. It won't be checked for correctness upon loading.\n",
      "  \"type \" + obj.__name__ + \". It won't be checked \"\n"
     ]
    }
   ],
   "source": [
    "# torch.save(act_net,'ppo_multitraj_acrobat')"
   ]
  },
  {
   "cell_type": "code",
   "execution_count": null,
   "metadata": {},
   "outputs": [],
   "source": []
  }
 ],
 "metadata": {
  "kernelspec": {
   "display_name": "Python 3",
   "language": "python",
   "name": "python3"
  },
  "language_info": {
   "codemirror_mode": {
    "name": "ipython",
    "version": 3
   },
   "file_extension": ".py",
   "mimetype": "text/x-python",
   "name": "python",
   "nbconvert_exporter": "python",
   "pygments_lexer": "ipython3",
   "version": "3.7.3"
  }
 },
 "nbformat": 4,
 "nbformat_minor": 2
}
