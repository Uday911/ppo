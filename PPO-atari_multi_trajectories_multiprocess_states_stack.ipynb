{
 "cells": [
  {
   "cell_type": "code",
   "execution_count": 2,
   "metadata": {},
   "outputs": [],
   "source": [
    "import torch\n",
    "import gym\n",
    "import torch.nn as nn\n",
    "import torch.optim as optim\n",
    "from torch.distributions import Categorical\n",
    "from functools import reduce\n",
    "import numpy as np\n",
    "import matplotlib.pyplot as plt\n",
    "import scipy.signal\n",
    "import random\n",
    "from IPython.display import clear_output\n",
    "from multiprocessing.pool import ThreadPool\n",
    "import numpy as np"
   ]
  },
  {
   "cell_type": "code",
   "execution_count": 3,
   "metadata": {},
   "outputs": [],
   "source": [
    "class ActorNet(nn.Module):\n",
    "    def __init__(self,input_dim_act,output_dim):\n",
    "        super(ActorNet,self).__init__()\n",
    "        self.fc1 = nn.Linear(input_dim_act,128)\n",
    "        self.elu1 = nn.Tanh()\n",
    "        self.fc2 = nn.Linear(128,64)\n",
    "        self.elu2 = nn.Tanh()\n",
    "        self.fc3 = nn.Linear(64,64)\n",
    "        self.elu3 = nn.Tanh()\n",
    "        self.fc4 = nn.Linear(64,output_dim)\n",
    "        \n",
    "    def forward(self,obj,action=False,max_act=False):\n",
    "        x = torch.FloatTensor(obj)\n",
    "        x = self.elu1(self.fc1(x))\n",
    "        x = self.elu2(self.fc2(x))\n",
    "        x = self.elu3(self.fc3(x))\n",
    "        logits = self.fc4(x)\n",
    "        m = Categorical(logits=logits)\n",
    "        act = m.sample()\n",
    "        log_p = m.log_prob(act)\n",
    "        if action:\n",
    "            return m.log_prob(torch.LongTensor(action))\n",
    "        else:\n",
    "            if max_act:\n",
    "                return torch.argmax(logits).item()\n",
    "            else:\n",
    "                return m,act.item(),log_p"
   ]
  },
  {
   "cell_type": "code",
   "execution_count": 4,
   "metadata": {},
   "outputs": [],
   "source": [
    "n_stacks = 5\n",
    "make = 'Breakout-ram-v0'"
   ]
  },
  {
   "cell_type": "code",
   "execution_count": 5,
   "metadata": {},
   "outputs": [],
   "source": [
    "env = gym.make(make)"
   ]
  },
  {
   "cell_type": "code",
   "execution_count": 6,
   "metadata": {},
   "outputs": [],
   "source": [
    "input_dim = env.observation_space.shape[0]\n",
    "input_dim_act = n_stacks*env.observation_space.shape[0]\n",
    "input_dim_v = env.observation_space.shape[0]"
   ]
  },
  {
   "cell_type": "code",
   "execution_count": 7,
   "metadata": {},
   "outputs": [],
   "source": [
    "output_dim = env.action_space.n"
   ]
  },
  {
   "cell_type": "code",
   "execution_count": 8,
   "metadata": {},
   "outputs": [],
   "source": [
    "act_net = ActorNet(input_dim_act,output_dim)"
   ]
  },
  {
   "cell_type": "code",
   "execution_count": 9,
   "metadata": {},
   "outputs": [],
   "source": [
    "class CriticNet(nn.Module):\n",
    "    def __init__(self,input_dim_v):\n",
    "        super(CriticNet,self).__init__()\n",
    "        self.fc1 = nn.Linear(input_dim_v,128)\n",
    "        self.elu1 = nn.Tanh()\n",
    "        self.fc2 = nn.Linear(128,64)\n",
    "        self.elu2 = nn.Tanh()\n",
    "        self.fc3 = nn.Linear(64,64)\n",
    "        self.elu3 = nn.Tanh()\n",
    "        self.fc4 = nn.Linear(64,1)\n",
    "        \n",
    "    def forward(self,obj):\n",
    "        x = torch.FloatTensor(obj)\n",
    "        x = self.elu1(self.fc1(x))\n",
    "        x = self.elu2(self.fc2(x))\n",
    "        x = self.elu3(self.fc3(x))\n",
    "        v = self.fc4(x)\n",
    "        return v"
   ]
  },
  {
   "cell_type": "code",
   "execution_count": 10,
   "metadata": {},
   "outputs": [],
   "source": [
    "crit_net = CriticNet(input_dim_v)"
   ]
  },
  {
   "cell_type": "code",
   "execution_count": 11,
   "metadata": {},
   "outputs": [],
   "source": [
    "gamma = 0.99\n",
    "lamda = 0.95\n",
    "clip_ratio = 0.2\n",
    "lr_pi = 1e-4\n",
    "lr_v = 1e-3\n",
    "target_kl = 0.01\n",
    "train_pi_iter = 5\n",
    "train_v_iter = 5\n",
    "traj_n = 10\n",
    "iters = 200"
   ]
  },
  {
   "cell_type": "code",
   "execution_count": 12,
   "metadata": {},
   "outputs": [],
   "source": [
    "optim_actor = optim.Adam(params=act_net.parameters(),lr=lr_pi)\n",
    "optim_critic = optim.Adam(params=crit_net.parameters(),lr=lr_v)"
   ]
  },
  {
   "cell_type": "code",
   "execution_count": 13,
   "metadata": {},
   "outputs": [],
   "source": [
    "def disc_cuml_rew_calc(rews,gamma=gamma):\n",
    "    return list(scipy.signal.lfilter([1], [1, float(-gamma)], rews[::-1], axis=0)[::-1])"
   ]
  },
  {
   "cell_type": "code",
   "execution_count": 14,
   "metadata": {},
   "outputs": [],
   "source": [
    "def traject(t):\n",
    "    traj = []\n",
    "    rews = []\n",
    "    env = gym.make(make)\n",
    "    obj = env.reset()\n",
    "    done = False\n",
    "    stacked_states = np.zeros((n_stacks,1,input_dim))\n",
    "    while not done:\n",
    "        stacked_states = np.concatenate((stacked_states[-1].reshape((1,1,input_dim)), stacked_states[0:-1]))\n",
    "        stacked_states[0] = obj.copy()\n",
    "        v = crit_net.forward(obj)\n",
    "        m,act,log_p = act_net.forward(stacked_states.reshape(1,n_stacks*input_dim))\n",
    "        next_obj,reward,done,_ = env.step(act)\n",
    "        traj.append([act,obj,next_obj,reward,done,log_p,v,stacked_states.reshape(1,n_stacks*input_dim)])\n",
    "        rews.append(reward)\n",
    "        obj = next_obj\n",
    "    rews_disc_cuml_scaled = disc_cuml_rew_calc(rews)\n",
    "    act,obj,_,rews,_,old_policy,v,stacked_states = zip(*traj)\n",
    "    adv = [rews[i] + gamma*v[i+1] - v[i] for i in range(len(rews)-1)] + [0 - v[-1]]\n",
    "    adv = torch.FloatTensor(adv)\n",
    "    adv = disc_cuml_rew_calc(adv.numpy(),gamma*lamda)\n",
    "    adv = torch.FloatTensor(adv)\n",
    "    adv = (adv - adv.mean())/adv.std()\n",
    "    traj = [i + [j,k] for i,j,k in zip(traj,rews_disc_cuml_scaled,adv)]\n",
    "    return traj,rews"
   ]
  },
  {
   "cell_type": "code",
   "execution_count": null,
   "metadata": {},
   "outputs": [
    {
     "name": "stdout",
     "output_type": "stream",
     "text": [
      "0\n"
     ]
    },
    {
     "data": {
      "image/png": "[encoded data removed]",
      "text/plain": [
       "<Figure size 432x288 with 1 Axes>"
      ]
     },
     "metadata": {
      "needs_background": "light"
     },
     "output_type": "display_data"
    },
    {
     "name": "stdout",
     "output_type": "stream",
     "text": [
      "1\n",
      "2\n",
      "3\n",
      "4\n",
      "5\n"
     ]
    }
   ],
   "source": [
    "rewards = []\n",
    "for k in range(iters):\n",
    "    print(k)\n",
    "    process = ThreadPool(processes=1)\n",
    "    out = process.map(traject,range(10))\n",
    "    process.close()\n",
    "    process.join()\n",
    "    trajectories,rewards_t = list(zip(*out))\n",
    "    rewards.extend(rewards_t)\n",
    "    trajectories = reduce(lambda a,b: a+b,trajectories)\n",
    "    act,obj,_,rews,_,old_policy,v,stacked_states,rews_disc_cuml,adv = zip(*trajectories)\n",
    "    adv = torch.FloatTensor(adv)\n",
    "    old_policy = torch.FloatTensor(old_policy)\n",
    "\n",
    "    for t in range(train_pi_iter):\n",
    "        new_policy = act_net.forward(stacked_states,action=act)\n",
    "        ratio = torch.exp(new_policy-old_policy)\n",
    "        clip_adv = torch.clamp(ratio, 1-clip_ratio, 1+clip_ratio) * adv\n",
    "        loss_pi = -(torch.min(ratio * adv, clip_adv)).mean()\n",
    "        optim_actor.zero_grad()\n",
    "        loss_pi.backward()\n",
    "        optim_actor.step()\n",
    "        if (new_policy - old_policy).mean().item() > 1.5 * target_kl:\n",
    "            print('early_stopping')\n",
    "            break\n",
    "\n",
    "    for t in range(train_v_iter):\n",
    "        loss_v = ((crit_net.forward(obj) - torch.FloatTensor(rews_disc_cuml)) ** 2).mean()\n",
    "        optim_critic.zero_grad()\n",
    "        loss_v.backward()\n",
    "        optim_critic.step()\n",
    "        \n",
    "        \n",
    "    if k % 10 == 0:\n",
    "        clear_output(wait=True)\n",
    "        print(k)\n",
    "        episode_returns = [sum(i) for i in rewards]\n",
    "        plt.plot(episode_returns)\n",
    "        plt.show()"
   ]
  },
  {
   "cell_type": "code",
   "execution_count": null,
   "metadata": {},
   "outputs": [],
   "source": []
  },
  {
   "cell_type": "code",
   "execution_count": null,
   "metadata": {},
   "outputs": [],
   "source": []
  },
  {
   "cell_type": "code",
   "execution_count": null,
   "metadata": {},
   "outputs": [],
   "source": []
  },
  {
   "cell_type": "code",
   "execution_count": 270,
   "metadata": {},
   "outputs": [],
   "source": [
    "act,obj,_,rews,_,old_policy,v,rews_disc_cuml,adv,stacked_states = zip(*trajectories[:2])"
   ]
  },
  {
   "cell_type": "code",
   "execution_count": 275,
   "metadata": {},
   "outputs": [
    {
     "data": {
      "text/plain": [
       "(0.0, 0.0)"
      ]
     },
     "execution_count": 275,
     "metadata": {},
     "output_type": "execute_result"
    }
   ],
   "source": [
    "adv"
   ]
  },
  {
   "cell_type": "code",
   "execution_count": 273,
   "metadata": {},
   "outputs": [
    {
     "data": {
      "text/plain": [
       "(tensor(-1.2544), tensor(-1.2847))"
      ]
     },
     "execution_count": 273,
     "metadata": {},
     "output_type": "execute_result"
    }
   ],
   "source": [
    "stacked_states"
   ]
  },
  {
   "cell_type": "code",
   "execution_count": 274,
   "metadata": {},
   "outputs": [
    {
     "data": {
      "text/plain": [
       "[2, array([ 63,  63,  63,  63,  63,  63, 255, 255, 255, 255, 255, 255, 255,\n",
       "        255, 255, 255, 255, 255, 255, 255, 255, 255, 255, 255, 255, 255,\n",
       "        255, 255, 255, 255, 192, 192, 192, 192, 192, 192, 255, 255, 255,\n",
       "        255, 255, 255, 255, 255, 255, 255, 255, 255, 255, 240,   0,   0,\n",
       "        255,   0,   0, 240,   0,   5,   0,   0,   6,   0,  70, 182, 134,\n",
       "        198,  22,  38,  54,  70,  88,   6, 146,   0,   8,   0,   0,   0,\n",
       "          0,   0,   0, 241,   0, 242,   0, 242,  25, 241,   5, 242,   0,\n",
       "          0, 255,   0, 228,   0,   0,   0,   0,   0,   0,   0,   0,   0,\n",
       "          0,   0,   0,   0,   8,   0, 255, 255, 255, 255, 255, 255, 255,\n",
       "          0,   0,   5,   0,   0, 186, 214, 117, 246, 219, 242], dtype=uint8), array([ 63,  63,  63,  63,  63,  63, 255, 255, 255, 255, 255, 255, 255,\n",
       "        255, 255, 255, 255, 255, 255, 255, 255, 255, 255, 255, 255, 255,\n",
       "        255, 255, 255, 255, 192, 192, 192, 192, 192, 192, 255, 255, 255,\n",
       "        255, 255, 255, 255, 255, 255, 255, 255, 255, 255, 240,   0,   0,\n",
       "        255,   0,   0, 240,   0,   5,   0,   0,   6,   0,  70, 182, 134,\n",
       "        198,  22,  38,  54,  70,  66,   2, 158,   0,   4,   0,   0,   0,\n",
       "          0,   0,   0, 241,   0, 242,   0, 242,  25, 241,   5, 242,   4,\n",
       "          0, 255,   0, 224,   0,   0,   0,   0,   0,   0,   0,   0,   0,\n",
       "          0,   0,   0,   0,   8,   0, 255, 255, 255, 255, 255, 255, 255,\n",
       "          0,   0,   5,   0,   0, 186, 214, 117, 246, 219, 242], dtype=uint8), 0.0, False, tensor([-1.2731], grad_fn=<SqueezeBackward1>), tensor([-0.0041], grad_fn=<AddBackward0>), array([[ 63.,  63.,  63.,  63.,  63.,  63., 255., 255., 255., 255., 255.,\n",
       "         255., 255., 255., 255., 255., 255., 255., 255., 255., 255., 255.,\n",
       "         255., 255., 255., 255., 255., 255., 255., 255., 192., 192., 192.,\n",
       "         192., 192., 192., 255., 255., 255., 255., 255., 255., 255., 255.,\n",
       "         255., 255., 255., 255., 255., 240.,   0.,   0., 255.,   0.,   0.,\n",
       "         240.,   0.,   5.,   0.,   0.,   6.,   0.,  70., 182., 134., 198.,\n",
       "          22.,  38.,  54.,  70.,  88.,   6., 146.,   0.,   8.,   0.,   0.,\n",
       "           0.,   0.,   0.,   0., 241.,   0., 242.,   0., 242.,  25., 241.,\n",
       "           5., 242.,   0.,   0., 255.,   0., 228.,   0.,   0.,   0.,   0.,\n",
       "           0.,   0.,   0.,   0.,   0.,   0.,   0.,   0.,   0.,   8.,   0.,\n",
       "         255., 255., 255., 255., 255., 255., 255.,   0.,   0.,   5.,   0.,\n",
       "           0., 186., 214., 117., 246., 219., 242.,   0.,   0.,   0.,   0.,\n",
       "           0.,   0.,   0.,   0.,   0.,   0.,   0.,   0.,   0.,   0.,   0.,\n",
       "           0.,   0.,   0.,   0.,   0.,   0.,   0.,   0.,   0.,   0.,   0.,\n",
       "           0.,   0.,   0.,   0.,   0.,   0.,   0.,   0.,   0.,   0.,   0.,\n",
       "           0.,   0.,   0.,   0.,   0.,   0.,   0.,   0.,   0.,   0.,   0.,\n",
       "           0.,   0.,   0.,   0.,   0.,   0.,   0.,   0.,   0.,   0.,   0.,\n",
       "           0.,   0.,   0.,   0.,   0.,   0.,   0.,   0.,   0.,   0.,   0.,\n",
       "           0.,   0.,   0.,   0.,   0.,   0.,   0.,   0.,   0.,   0.,   0.,\n",
       "           0.,   0.,   0.,   0.,   0.,   0.,   0.,   0.,   0.,   0.,   0.,\n",
       "           0.,   0.,   0.,   0.,   0.,   0.,   0.,   0.,   0.,   0.,   0.,\n",
       "           0.,   0.,   0.,   0.,   0.,   0.,   0.,   0.,   0.,   0.,   0.,\n",
       "           0.,   0.,   0.,   0.,   0.,   0.,   0.,   0.,   0.,   0.,   0.,\n",
       "           0.,   0.,   0.,   0.,   0.,   0.,   0.,   0.,   0.,   0.,   0.,\n",
       "           0.,   0.,   0.,   0.,   0.,   0.,   0.,   0.,   0.,   0.,   0.,\n",
       "           0.,   0.,   0.,   0.,   0.,   0.,   0.,   0.,   0.,   0.,   0.,\n",
       "           0.,   0.,   0.,   0.,   0.,   0.,   0.,   0.,   0.,   0.,   0.,\n",
       "           0.,   0.,   0.,   0.,   0.,   0.,   0.,   0.,   0.,   0.,   0.,\n",
       "           0.,   0.,   0.,   0.,   0.,   0.,   0.,   0.,   0.,   0.,   0.,\n",
       "           0.,   0.,   0.,   0.,   0.,   0.,   0.,   0.,   0.,   0.,   0.,\n",
       "           0.,   0.,   0.,   0.,   0.,   0.,   0.,   0.,   0.,   0.,   0.,\n",
       "           0.,   0.,   0.,   0.,   0.,   0.,   0.,   0.,   0.,   0.,   0.,\n",
       "           0.,   0.,   0.,   0.,   0.,   0.,   0.,   0.,   0.,   0.,   0.,\n",
       "           0.,   0.,   0.,   0.,   0.,   0.,   0.,   0.,   0.,   0.,   0.,\n",
       "           0.,   0.,   0.,   0.,   0.,   0.,   0.,   0.,   0.,   0.,   0.,\n",
       "           0.,   0.,   0.,   0.,   0.,   0.,   0.,   0.,   0.,   0.,   0.,\n",
       "           0.,   0.,   0.,   0.,   0.,   0.,   0.,   0.,   0.,   0.,   0.,\n",
       "           0.,   0.,   0.,   0.,   0.,   0.,   0.,   0.,   0.,   0.,   0.,\n",
       "           0.,   0.,   0.,   0.,   0.,   0.,   0.,   0.,   0.,   0.,   0.,\n",
       "           0.,   0.,   0.,   0.,   0.,   0.,   0.,   0.,   0.,   0.,   0.,\n",
       "           0.,   0.,   0.,   0.,   0.,   0.,   0.,   0.,   0.,   0.,   0.,\n",
       "           0.,   0.,   0.,   0.,   0.,   0.,   0.,   0.,   0.,   0.,   0.,\n",
       "           0.,   0.,   0.,   0.,   0.,   0.,   0.,   0.,   0.,   0.,   0.,\n",
       "           0.,   0.,   0.,   0.,   0.,   0.,   0.,   0.,   0.,   0.,   0.,\n",
       "           0.,   0.,   0.,   0.,   0.,   0.,   0.,   0.,   0.,   0.,   0.,\n",
       "           0.,   0.,   0.,   0.,   0.,   0.,   0.,   0.,   0.,   0.,   0.,\n",
       "           0.,   0.,   0.,   0.,   0.,   0.,   0.,   0.,   0.,   0.,   0.,\n",
       "           0.,   0.,   0.,   0.,   0.,   0.,   0.,   0.,   0.,   0.,   0.,\n",
       "           0.,   0.,   0.,   0.,   0.,   0.,   0.,   0.,   0.,   0.,   0.,\n",
       "           0.,   0.,   0.,   0.,   0.,   0.,   0.,   0.,   0.,   0.,   0.,\n",
       "           0.,   0.,   0.,   0.,   0.,   0.,   0.,   0.,   0.,   0.,   0.,\n",
       "           0.,   0.,   0.,   0.,   0.,   0.,   0.,   0.,   0.,   0.,   0.,\n",
       "           0.,   0.,   0.,   0.,   0.,   0.,   0.,   0.,   0.,   0.,   0.,\n",
       "           0.,   0.,   0.,   0.,   0.,   0.,   0.,   0.,   0.,   0.,   0.,\n",
       "           0.,   0.,   0.,   0.,   0.,   0.,   0.,   0.,   0.,   0.,   0.,\n",
       "           0.,   0.,   0.,   0.,   0.,   0.,   0.,   0.,   0.,   0.,   0.,\n",
       "           0.,   0.,   0.,   0.,   0.,   0.,   0.,   0.,   0.,   0.,   0.,\n",
       "           0.,   0.,   0.,   0.,   0.,   0.,   0.,   0.,   0.,   0.,   0.,\n",
       "           0.,   0.]]), 0.0, tensor(-1.2544)]"
      ]
     },
     "execution_count": 274,
     "metadata": {},
     "output_type": "execute_result"
    }
   ],
   "source": [
    "trajectories[0]"
   ]
  },
  {
   "cell_type": "code",
   "execution_count": null,
   "metadata": {},
   "outputs": [],
   "source": []
  },
  {
   "cell_type": "code",
   "execution_count": 14,
   "metadata": {},
   "outputs": [],
   "source": [
    "episode_returns = [sum(i) for i in rewards]"
   ]
  },
  {
   "cell_type": "code",
   "execution_count": 15,
   "metadata": {},
   "outputs": [
    {
     "data": {
      "text/plain": [
       "[<matplotlib.lines.Line2D at 0x2c43e29b518>]"
      ]
     },
     "execution_count": 15,
     "metadata": {},
     "output_type": "execute_result"
    },
    {
     "data": {
      "image/png": "[encoded data removed]",
      "text/plain": [
       "<Figure size 432x288 with 1 Axes>"
      ]
     },
     "metadata": {
      "needs_background": "light"
     },
     "output_type": "display_data"
    }
   ],
   "source": [
    "plt.plot(episode_returns)"
   ]
  },
  {
   "cell_type": "code",
   "execution_count": null,
   "metadata": {},
   "outputs": [],
   "source": []
  },
  {
   "cell_type": "code",
   "execution_count": 23,
   "metadata": {},
   "outputs": [],
   "source": [
    "import time"
   ]
  },
  {
   "cell_type": "code",
   "execution_count": 28,
   "metadata": {},
   "outputs": [
    {
     "name": "stdout",
     "output_type": "stream",
     "text": [
      "270.0\n"
     ]
    }
   ],
   "source": [
    "done = False\n",
    "obj = env.reset()\n",
    "rw = 0\n",
    "while not done:\n",
    "#     print('**********************************')\n",
    "    act = k.forward(obj,max_act=True)\n",
    "    time.sleep(0.02)\n",
    "#     print(m.logits)\n",
    "#     print(m.logits.argmax())\n",
    "#     print(act)\n",
    "    obj,reward,done,_ = env.step(act)\n",
    "    rw += reward\n",
    "    env.render()\n",
    "env.close()\n",
    "print(rw)"
   ]
  },
  {
   "cell_type": "code",
   "execution_count": 31,
   "metadata": {},
   "outputs": [],
   "source": [
    "env.close()"
   ]
  },
  {
   "cell_type": "code",
   "execution_count": 40,
   "metadata": {},
   "outputs": [
    {
     "data": {
      "text/plain": [
       "0"
      ]
     },
     "execution_count": 40,
     "metadata": {},
     "output_type": "execute_result"
    }
   ],
   "source": [
    "act"
   ]
  },
  {
   "cell_type": "code",
   "execution_count": 43,
   "metadata": {},
   "outputs": [
    {
     "data": {
      "text/plain": [
       "tensor([-1.6989, -1.7558, -2.4567, -0.5823], grad_fn=<SubBackward0>)"
      ]
     },
     "execution_count": 43,
     "metadata": {},
     "output_type": "execute_result"
    }
   ],
   "source": [
    "m.logits"
   ]
  },
  {
   "cell_type": "code",
   "execution_count": null,
   "metadata": {},
   "outputs": [],
   "source": []
  },
  {
   "cell_type": "code",
   "execution_count": 27,
   "metadata": {},
   "outputs": [],
   "source": [
    "k = torch.load('ppo_multitraj_space_in')"
   ]
  },
  {
   "cell_type": "code",
   "execution_count": 120,
   "metadata": {},
   "outputs": [
    {
     "name": "stderr",
     "output_type": "stream",
     "text": [
      "C:\\ProgramData\\Anaconda3\\lib\\site-packages\\torch\\serialization.py:292: UserWarning: Couldn't retrieve source code for container of type ActorNet. It won't be checked for correctness upon loading.\n",
      "  \"type \" + obj.__name__ + \". It won't be checked \"\n",
      "C:\\ProgramData\\Anaconda3\\lib\\site-packages\\torch\\serialization.py:292: UserWarning: Couldn't retrieve source code for container of type Linear. It won't be checked for correctness upon loading.\n",
      "  \"type \" + obj.__name__ + \". It won't be checked \"\n",
      "C:\\ProgramData\\Anaconda3\\lib\\site-packages\\torch\\serialization.py:292: UserWarning: Couldn't retrieve source code for container of type Tanh. It won't be checked for correctness upon loading.\n",
      "  \"type \" + obj.__name__ + \". It won't be checked \"\n"
     ]
    }
   ],
   "source": [
    "# torch.save(act_net,'ppo_multitraj_acrobat')"
   ]
  },
  {
   "cell_type": "code",
   "execution_count": null,
   "metadata": {},
   "outputs": [],
   "source": []
  }
 ],
 "metadata": {
  "kernelspec": {
   "display_name": "Python 3",
   "language": "python",
   "name": "python3"
  },
  "language_info": {
   "codemirror_mode": {
    "name": "ipython",
    "version": 3
   },
   "file_extension": ".py",
   "mimetype": "text/x-python",
   "name": "python",
   "nbconvert_exporter": "python",
   "pygments_lexer": "ipython3",
   "version": "3.7.3"
  }
 },
 "nbformat": 4,
 "nbformat_minor": 2
}
