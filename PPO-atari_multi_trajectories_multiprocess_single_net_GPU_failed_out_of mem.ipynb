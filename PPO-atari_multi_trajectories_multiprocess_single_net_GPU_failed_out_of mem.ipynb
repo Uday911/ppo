{
 "cells": [
  {
   "cell_type": "code",
   "execution_count": 1,
   "metadata": {},
   "outputs": [],
   "source": [
    "import torch\n",
    "import gym\n",
    "import torch.nn as nn\n",
    "import torch.optim as optim\n",
    "from torch.distributions import Categorical\n",
    "from functools import reduce\n",
    "import numpy as np\n",
    "import matplotlib.pyplot as plt\n",
    "import scipy.signal\n",
    "import random\n",
    "from IPython.display import clear_output\n",
    "from multiprocessing.pool import ThreadPool"
   ]
  },
  {
   "cell_type": "code",
   "execution_count": 2,
   "metadata": {},
   "outputs": [],
   "source": [
    "class ActorNet(nn.Module):\n",
    "    def __init__(self,input_dim,output_dim):\n",
    "        super(ActorNet,self).__init__()\n",
    "        self.fc1 = nn.Linear(input_dim,256)\n",
    "        self.elu1 = nn.Tanh()\n",
    "#         self.fc2 = nn.Linear(512,256)\n",
    "#         self.elu2 = nn.Tanh()\n",
    "        self.fc3 = nn.Linear(256,64)\n",
    "        self.elu3 = nn.Tanh()\n",
    "        self.fc4 = nn.Linear(64,output_dim)\n",
    "        self.value = nn.Linear(64,1)\n",
    "        \n",
    "    def forward(self,obj,action=False,max_act=False,value=False):\n",
    "        x = torch.FloatTensor(obj)\n",
    "        x = x.to(device)\n",
    "        x = self.elu1(self.fc1(x))\n",
    "#         x = self.elu2(self.fc2(x))\n",
    "        x = self.elu3(self.fc3(x))\n",
    "        logits = self.fc4(x)\n",
    "        v = self.value(x)\n",
    "        m = Categorical(logits=logits)\n",
    "        act = m.sample()\n",
    "        log_p = m.log_prob(act)\n",
    "        if action:\n",
    "            return m.log_prob(torch.LongTensor(action).to(device))\n",
    "        elif value:\n",
    "            return v\n",
    "        else:\n",
    "            if max_act:\n",
    "                return torch.argmax(logits).item()\n",
    "            else:\n",
    "                return m,act.item(),log_p,v\n",
    "            "
   ]
  },
  {
   "cell_type": "code",
   "execution_count": 3,
   "metadata": {},
   "outputs": [],
   "source": [
    "make = 'Pong-ram-v0'"
   ]
  },
  {
   "cell_type": "code",
   "execution_count": 4,
   "metadata": {},
   "outputs": [],
   "source": [
    "env = gym.make(make)"
   ]
  },
  {
   "cell_type": "code",
   "execution_count": 5,
   "metadata": {},
   "outputs": [],
   "source": [
    "input_dim = env.observation_space.shape[0]"
   ]
  },
  {
   "cell_type": "code",
   "execution_count": 6,
   "metadata": {},
   "outputs": [],
   "source": [
    "output_dim = env.action_space.n"
   ]
  },
  {
   "cell_type": "code",
   "execution_count": 7,
   "metadata": {},
   "outputs": [],
   "source": [
    "act_net = ActorNet(input_dim,output_dim)"
   ]
  },
  {
   "cell_type": "code",
   "execution_count": 8,
   "metadata": {},
   "outputs": [],
   "source": [
    "device = torch.device(\"cuda:0\" if torch.cuda.is_available() else \"cpu\")"
   ]
  },
  {
   "cell_type": "code",
   "execution_count": 9,
   "metadata": {},
   "outputs": [],
   "source": [
    "act_net = act_net.to(device)"
   ]
  },
  {
   "cell_type": "code",
   "execution_count": 10,
   "metadata": {},
   "outputs": [],
   "source": [
    "gamma = 0.99\n",
    "lamda = 0.95\n",
    "clip_ratio = 0.2\n",
    "lr_pi = 1e-4\n",
    "lr_v = 1e-3\n",
    "target_kl = 0.01\n",
    "train_pi_iter = 50\n",
    "train_v_iter = 50\n",
    "traj_n = 10\n",
    "iters = 50\n",
    "batch_size = 16"
   ]
  },
  {
   "cell_type": "code",
   "execution_count": 11,
   "metadata": {},
   "outputs": [],
   "source": [
    "optim_actor = optim.Adam(params=act_net.parameters(),lr=lr_pi)"
   ]
  },
  {
   "cell_type": "code",
   "execution_count": 12,
   "metadata": {},
   "outputs": [],
   "source": [
    "def disc_cuml_rew_calc(rews,gamma=gamma):\n",
    "    return list(scipy.signal.lfilter([1], [1, float(-gamma)], rews[::-1], axis=0)[::-1])"
   ]
  },
  {
   "cell_type": "code",
   "execution_count": 13,
   "metadata": {},
   "outputs": [],
   "source": [
    "def traject(t):\n",
    "    traj = []\n",
    "    rews = []\n",
    "    env = gym.make(make)\n",
    "    obj = env.reset()\n",
    "    done = False\n",
    "    while not done:\n",
    "        m,act,log_p,v = act_net.forward(obj)\n",
    "        next_obj,reward,done,_ = env.step(act)\n",
    "        reward += m.entropy().item() * 0.1\n",
    "        traj.append([act,obj,next_obj,reward,done,log_p,v])\n",
    "        rews.append(reward)\n",
    "        obj = next_obj\n",
    "    rews_disc_cuml_scaled = disc_cuml_rew_calc(rews)\n",
    "    act,obj,_,rews,_,old_policy,v = zip(*traj)\n",
    "    adv = [rews[i] + gamma*v[i+1] - v[i] for i in range(len(rews)-1)] + [0 - v[-1]]\n",
    "    adv = torch.FloatTensor(adv)\n",
    "    adv = disc_cuml_rew_calc(adv.numpy(),gamma*lamda)\n",
    "    adv = torch.FloatTensor(adv)\n",
    "    adv = (adv - adv.mean())/adv.std()\n",
    "    traj = [i + [j,k] for i,j,k in zip(traj,rews_disc_cuml_scaled,adv)]\n",
    "    return traj,rews"
   ]
  },
  {
   "cell_type": "code",
   "execution_count": 14,
   "metadata": {},
   "outputs": [],
   "source": [
    "def break_list(sublst_ln,lst):\n",
    "    \"\"\"\n",
    "    Divides given list into sublists of given length\n",
    "    \"\"\"\n",
    "    all_parts = len(lst)//sublst_ln\n",
    "    last_part = len(lst)%sublst_ln\n",
    "    tmp = []\n",
    "    for i in range(all_parts):\n",
    "        tmp.append(lst[i*sublst_ln:(i+1)*sublst_ln])\n",
    "    if last_part > 0:\n",
    "        tmp.append(lst[sublst_ln*all_parts:])\n",
    "    return tmp"
   ]
  },
  {
   "cell_type": "code",
   "execution_count": 15,
   "metadata": {
    "scrolled": false
   },
   "outputs": [
    {
     "name": "stdout",
     "output_type": "stream",
     "text": [
      "0\n"
     ]
    },
    {
     "ename": "RuntimeError",
     "evalue": "CUDA out of memory. Tried to allocate 608.00 MiB (GPU 0; 4.00 GiB total capacity; 2.48 GiB already allocated; 0 bytes free; 20.00 MiB cached)",
     "output_type": "error",
     "traceback": [
      "\u001b[1;31m---------------------------------------------------------------------------\u001b[0m",
      "\u001b[1;31mRuntimeError\u001b[0m                              Traceback (most recent call last)",
      "\u001b[1;32m<ipython-input-15-e616bcdb6d03>\u001b[0m in \u001b[0;36m<module>\u001b[1;34m\u001b[0m\n\u001b[0;32m     23\u001b[0m             \u001b[0mloss\u001b[0m \u001b[1;33m=\u001b[0m \u001b[0mloss_pi\u001b[0m \u001b[1;33m+\u001b[0m \u001b[0mloss_v\u001b[0m\u001b[1;33m\u001b[0m\u001b[1;33m\u001b[0m\u001b[0m\n\u001b[0;32m     24\u001b[0m             \u001b[0moptim_actor\u001b[0m\u001b[1;33m.\u001b[0m\u001b[0mzero_grad\u001b[0m\u001b[1;33m(\u001b[0m\u001b[1;33m)\u001b[0m\u001b[1;33m\u001b[0m\u001b[1;33m\u001b[0m\u001b[0m\n\u001b[1;32m---> 25\u001b[1;33m             \u001b[0mloss\u001b[0m\u001b[1;33m.\u001b[0m\u001b[0mbackward\u001b[0m\u001b[1;33m(\u001b[0m\u001b[1;33m)\u001b[0m\u001b[1;33m\u001b[0m\u001b[1;33m\u001b[0m\u001b[0m\n\u001b[0m\u001b[0;32m     26\u001b[0m             \u001b[0moptim_actor\u001b[0m\u001b[1;33m.\u001b[0m\u001b[0mstep\u001b[0m\u001b[1;33m(\u001b[0m\u001b[1;33m)\u001b[0m\u001b[1;33m\u001b[0m\u001b[1;33m\u001b[0m\u001b[0m\n\u001b[0;32m     27\u001b[0m             \u001b[1;32mif\u001b[0m \u001b[1;33m(\u001b[0m\u001b[0mnew_policy\u001b[0m \u001b[1;33m-\u001b[0m \u001b[0mold_policy\u001b[0m\u001b[1;33m)\u001b[0m\u001b[1;33m.\u001b[0m\u001b[0mmean\u001b[0m\u001b[1;33m(\u001b[0m\u001b[1;33m)\u001b[0m\u001b[1;33m.\u001b[0m\u001b[0mitem\u001b[0m\u001b[1;33m(\u001b[0m\u001b[1;33m)\u001b[0m \u001b[1;33m>\u001b[0m \u001b[1;36m1.5\u001b[0m \u001b[1;33m*\u001b[0m \u001b[0mtarget_kl\u001b[0m\u001b[1;33m:\u001b[0m\u001b[1;33m\u001b[0m\u001b[1;33m\u001b[0m\u001b[0m\n",
      "\u001b[1;32mC:\\ProgramData\\Anaconda3\\lib\\site-packages\\torch\\tensor.py\u001b[0m in \u001b[0;36mbackward\u001b[1;34m(self, gradient, retain_graph, create_graph)\u001b[0m\n\u001b[0;32m    164\u001b[0m                 \u001b[0mproducts\u001b[0m\u001b[1;33m.\u001b[0m \u001b[0mDefaults\u001b[0m \u001b[0mto\u001b[0m\u001b[0;31m \u001b[0m\u001b[0;31m`\u001b[0m\u001b[0;31m`\u001b[0m\u001b[1;32mFalse\u001b[0m\u001b[0;31m`\u001b[0m\u001b[0;31m`\u001b[0m\u001b[1;33m.\u001b[0m\u001b[1;33m\u001b[0m\u001b[1;33m\u001b[0m\u001b[0m\n\u001b[0;32m    165\u001b[0m         \"\"\"\n\u001b[1;32m--> 166\u001b[1;33m         \u001b[0mtorch\u001b[0m\u001b[1;33m.\u001b[0m\u001b[0mautograd\u001b[0m\u001b[1;33m.\u001b[0m\u001b[0mbackward\u001b[0m\u001b[1;33m(\u001b[0m\u001b[0mself\u001b[0m\u001b[1;33m,\u001b[0m \u001b[0mgradient\u001b[0m\u001b[1;33m,\u001b[0m \u001b[0mretain_graph\u001b[0m\u001b[1;33m,\u001b[0m \u001b[0mcreate_graph\u001b[0m\u001b[1;33m)\u001b[0m\u001b[1;33m\u001b[0m\u001b[1;33m\u001b[0m\u001b[0m\n\u001b[0m\u001b[0;32m    167\u001b[0m \u001b[1;33m\u001b[0m\u001b[0m\n\u001b[0;32m    168\u001b[0m     \u001b[1;32mdef\u001b[0m \u001b[0mregister_hook\u001b[0m\u001b[1;33m(\u001b[0m\u001b[0mself\u001b[0m\u001b[1;33m,\u001b[0m \u001b[0mhook\u001b[0m\u001b[1;33m)\u001b[0m\u001b[1;33m:\u001b[0m\u001b[1;33m\u001b[0m\u001b[1;33m\u001b[0m\u001b[0m\n",
      "\u001b[1;32mC:\\ProgramData\\Anaconda3\\lib\\site-packages\\torch\\autograd\\__init__.py\u001b[0m in \u001b[0;36mbackward\u001b[1;34m(tensors, grad_tensors, retain_graph, create_graph, grad_variables)\u001b[0m\n\u001b[0;32m     97\u001b[0m     Variable._execution_engine.run_backward(\n\u001b[0;32m     98\u001b[0m         \u001b[0mtensors\u001b[0m\u001b[1;33m,\u001b[0m \u001b[0mgrad_tensors\u001b[0m\u001b[1;33m,\u001b[0m \u001b[0mretain_graph\u001b[0m\u001b[1;33m,\u001b[0m \u001b[0mcreate_graph\u001b[0m\u001b[1;33m,\u001b[0m\u001b[1;33m\u001b[0m\u001b[1;33m\u001b[0m\u001b[0m\n\u001b[1;32m---> 99\u001b[1;33m         allow_unreachable=True)  # allow_unreachable flag\n\u001b[0m\u001b[0;32m    100\u001b[0m \u001b[1;33m\u001b[0m\u001b[0m\n\u001b[0;32m    101\u001b[0m \u001b[1;33m\u001b[0m\u001b[0m\n",
      "\u001b[1;31mRuntimeError\u001b[0m: CUDA out of memory. Tried to allocate 608.00 MiB (GPU 0; 4.00 GiB total capacity; 2.48 GiB already allocated; 0 bytes free; 20.00 MiB cached)"
     ]
    }
   ],
   "source": [
    "rewards = []\n",
    "for k in range(iters):\n",
    "    print(k)\n",
    "    process = ThreadPool(processes=8)\n",
    "    out = process.map(traject,range(traj_n))\n",
    "    process.close()\n",
    "    process.join()\n",
    "    broken_out = break_list(batch_size,out)\n",
    "    for b in broken_out:\n",
    "        trajectories,rewards_t = list(zip(*b))\n",
    "        rewards.extend(rewards_t)\n",
    "        trajectories = reduce(lambda a,b: a+b,trajectories)\n",
    "        act,obj,_,rews,_,old_policy,v,rews_disc_cuml,adv = zip(*trajectories)\n",
    "        adv = torch.FloatTensor(adv).to(device)\n",
    "        old_policy = torch.FloatTensor(old_policy)\n",
    "        old_policy = old_policy.to(device)\n",
    "        for t in range(train_pi_iter):\n",
    "            new_policy = act_net.forward(obj,action=act)\n",
    "            ratio = torch.exp(new_policy-old_policy)\n",
    "            clip_adv = torch.clamp(ratio, 1-clip_ratio, 1+clip_ratio) * adv\n",
    "            loss_pi = -(torch.min(ratio * adv, clip_adv)).mean()\n",
    "            loss_v = ((act_net.forward(obj,value=True) - torch.FloatTensor(rews_disc_cuml).to(device)) ** 2).mean()\n",
    "            loss = loss_pi + loss_v\n",
    "            optim_actor.zero_grad()\n",
    "            loss.backward()\n",
    "            optim_actor.step()\n",
    "            if (new_policy - old_policy).mean().item() > 1.5 * target_kl:\n",
    "                print('early_stopping')\n",
    "                break\n",
    "\n",
    "        if k % 10 == 0:\n",
    "            clear_output(wait=True)\n",
    "            print(k)\n",
    "            episode_returns = [sum(i) for i in rewards]\n",
    "            plt.plot(episode_returns)\n",
    "            plt.show()\n",
    "        \n",
    "#         del broken_out,trajectories,act,obj,_,rews,old_policy,v,rews_disc_cuml,adv,loss_pi,loss_v,loss,ratio,clip_adv\n",
    "#         torch.cuda.empty_cache()"
   ]
  },
  {
   "cell_type": "code",
   "execution_count": null,
   "metadata": {},
   "outputs": [],
   "source": []
  },
  {
   "cell_type": "code",
   "execution_count": null,
   "metadata": {},
   "outputs": [],
   "source": []
  },
  {
   "cell_type": "code",
   "execution_count": null,
   "metadata": {},
   "outputs": [],
   "source": []
  },
  {
   "cell_type": "code",
   "execution_count": null,
   "metadata": {},
   "outputs": [],
   "source": []
  },
  {
   "cell_type": "code",
   "execution_count": 90,
   "metadata": {},
   "outputs": [],
   "source": [
    "episode_returns = [sum(i) for i in rewards]"
   ]
  },
  {
   "cell_type": "code",
   "execution_count": 91,
   "metadata": {},
   "outputs": [
    {
     "data": {
      "text/plain": [
       "[<matplotlib.lines.Line2D at 0x1c202588630>]"
      ]
     },
     "execution_count": 91,
     "metadata": {},
     "output_type": "execute_result"
    },
    {
     "data": {
      "image/png": "[encoded data removed]",
      "text/plain": [
       "<Figure size 432x288 with 1 Axes>"
      ]
     },
     "metadata": {
      "needs_background": "light"
     },
     "output_type": "display_data"
    }
   ],
   "source": [
    "plt.plot(episode_returns)"
   ]
  },
  {
   "cell_type": "code",
   "execution_count": null,
   "metadata": {},
   "outputs": [],
   "source": []
  },
  {
   "cell_type": "code",
   "execution_count": 92,
   "metadata": {},
   "outputs": [],
   "source": [
    "import time"
   ]
  },
  {
   "cell_type": "code",
   "execution_count": 98,
   "metadata": {},
   "outputs": [
    {
     "name": "stdout",
     "output_type": "stream",
     "text": [
      "-500.0\n"
     ]
    }
   ],
   "source": [
    "done = False\n",
    "obj = env.reset()\n",
    "rw = 0\n",
    "while not done:\n",
    "# for r in range(800):\n",
    "#     print('**********************************')\n",
    "    m,act,log_p = act_net.forward(obj)\n",
    "#     time.sleep(0.02)\n",
    "#     print(m.logits)\n",
    "#     print(m.logits.argmax())\n",
    "#     print(act)\n",
    "    obj,reward,done,_ = env.step(act)\n",
    "    rw += reward\n",
    "    env.render()\n",
    "env.close()\n",
    "print(rw)"
   ]
  },
  {
   "cell_type": "code",
   "execution_count": 59,
   "metadata": {},
   "outputs": [],
   "source": [
    "env.close()"
   ]
  },
  {
   "cell_type": "code",
   "execution_count": 40,
   "metadata": {},
   "outputs": [
    {
     "data": {
      "text/plain": [
       "0"
      ]
     },
     "execution_count": 40,
     "metadata": {},
     "output_type": "execute_result"
    }
   ],
   "source": [
    "act"
   ]
  },
  {
   "cell_type": "code",
   "execution_count": 43,
   "metadata": {},
   "outputs": [
    {
     "data": {
      "text/plain": [
       "tensor([-1.6989, -1.7558, -2.4567, -0.5823], grad_fn=<SubBackward0>)"
      ]
     },
     "execution_count": 43,
     "metadata": {},
     "output_type": "execute_result"
    }
   ],
   "source": [
    "m.logits"
   ]
  },
  {
   "cell_type": "code",
   "execution_count": null,
   "metadata": {},
   "outputs": [],
   "source": []
  },
  {
   "cell_type": "code",
   "execution_count": 28,
   "metadata": {},
   "outputs": [],
   "source": [
    "k = torch.load('ppo_multitraj_cartpole')"
   ]
  },
  {
   "cell_type": "code",
   "execution_count": 120,
   "metadata": {},
   "outputs": [
    {
     "name": "stderr",
     "output_type": "stream",
     "text": [
      "C:\\ProgramData\\Anaconda3\\lib\\site-packages\\torch\\serialization.py:292: UserWarning: Couldn't retrieve source code for container of type ActorNet. It won't be checked for correctness upon loading.\n",
      "  \"type \" + obj.__name__ + \". It won't be checked \"\n",
      "C:\\ProgramData\\Anaconda3\\lib\\site-packages\\torch\\serialization.py:292: UserWarning: Couldn't retrieve source code for container of type Linear. It won't be checked for correctness upon loading.\n",
      "  \"type \" + obj.__name__ + \". It won't be checked \"\n",
      "C:\\ProgramData\\Anaconda3\\lib\\site-packages\\torch\\serialization.py:292: UserWarning: Couldn't retrieve source code for container of type Tanh. It won't be checked for correctness upon loading.\n",
      "  \"type \" + obj.__name__ + \". It won't be checked \"\n"
     ]
    }
   ],
   "source": [
    "# torch.save(act_net,'ppo_multitraj_acrobat')"
   ]
  },
  {
   "cell_type": "code",
   "execution_count": null,
   "metadata": {},
   "outputs": [],
   "source": []
  }
 ],
 "metadata": {
  "kernelspec": {
   "display_name": "Python 3",
   "language": "python",
   "name": "python3"
  },
  "language_info": {
   "codemirror_mode": {
    "name": "ipython",
    "version": 3
   },
   "file_extension": ".py",
   "mimetype": "text/x-python",
   "name": "python",
   "nbconvert_exporter": "python",
   "pygments_lexer": "ipython3",
   "version": "3.7.3"
  }
 },
 "nbformat": 4,
 "nbformat_minor": 2
}
